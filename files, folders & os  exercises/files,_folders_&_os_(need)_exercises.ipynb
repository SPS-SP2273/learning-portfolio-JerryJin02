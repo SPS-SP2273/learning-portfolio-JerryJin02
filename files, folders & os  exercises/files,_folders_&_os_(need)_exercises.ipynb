{
 "cells": [
  {
   "cell_type": "markdown",
   "id": "123456",
   "metadata": {},
   "source": [
    "<div style=\"text-align:left;font-size:2em\"><span style=\"font-weight:bolder;font-size:1.25em\">SP2273 | Learning Portfolio</span><br><br><span style=\"font-weight:bold;color:darkred\">Files, Folders & OS (Need) Exercises</span></div>"
   ]
  },
  {
   "cell_type": "markdown",
   "id": "b2be592e",
   "metadata": {},
   "source": [
    "## Exercise 1"
   ]
  },
  {
   "cell_type": "markdown",
   "id": "301fc013",
   "metadata": {},
   "source": [
    "### Task 1"
   ]
  },
  {
   "cell_type": "code",
   "execution_count": 2,
   "id": "ffbbe17e",
   "metadata": {},
   "outputs": [],
   "source": [
    "diction = {\n",
    "'jan': '01', 'feb': '02', 'mar': '03',\n",
    "'apr': '04', 'may': '05', 'jun': '06',\n",
    "'jul': '07', 'aug': '08', 'sep': '09',\n",
    "'oct': '10', 'nov': '11', 'dec': '12'\n",
    "}"
   ]
  },
  {
   "cell_type": "code",
   "execution_count": 8,
   "id": "c2b05eb2",
   "metadata": {},
   "outputs": [
    {
     "name": "stdout",
     "output_type": "stream",
     "text": [
      "['a', 'b']\n"
     ]
    }
   ],
   "source": [
    "A= ['a', 'b']\n",
    "for element in A:\n",
    "    if element == 'a':\n",
    "        element.replace(element, 'c')\n",
    "print(A)"
   ]
  },
  {
   "cell_type": "code",
   "execution_count": 39,
   "id": "75d7b9d8",
   "metadata": {},
   "outputs": [],
   "source": [
    "import os\n",
    "old_name = 'may-15_dhaka.txt'\n",
    "old_path = os.path.join('/Users', 'jiaruijin', 'Desktop', 'Academics', \n",
    "                        'Year 1', 'Sem 2', 'SP2273', 'os-collaboration-exercise-data', old_name)\n",
    "new_name = old_name.split('-')\n",
    "for element in new_name:\n",
    "    if element in diction:\n",
    "        new_name[new_name.index(element)] = diction[element]\n",
    "new_name = '-'.join(new_name)\n",
    "new_name = new_name.replace('_', '-')\n",
    "new_path = os.path.join('/Users', 'jiaruijin', 'Desktop', 'Academics', \n",
    "                        'Year 1', 'Sem 2', 'SP2273', 'os-collaboration-exercise-data', new_name)\n",
    "os.rename(old_path, new_path)"
   ]
  },
  {
   "cell_type": "markdown",
   "id": "84f3a034",
   "metadata": {},
   "source": [
    "### Task 2"
   ]
  },
  {
   "cell_type": "code",
   "execution_count": 62,
   "id": "160c94bc",
   "metadata": {},
   "outputs": [],
   "source": [
    "def rename_my_file(old_file_name):\n",
    "    old_name = old_file_name\n",
    "    old_path = os.path.join('/Users', 'jiaruijin', 'Desktop', 'Academics', \n",
    "                            'Year 1', 'Sem 2', 'SP2273', 'os-collaboration-exercise-data', old_name)\n",
    "    new_name = old_name.split('-')\n",
    "    for element in new_name:\n",
    "        if element in diction:\n",
    "            new_name[new_name.index(element)] = diction[element]\n",
    "    new_name = '-'.join(new_name)\n",
    "    new_name = new_name.replace('_', '-')\n",
    "    new_path = os.path.join('/Users', 'jiaruijin', 'Desktop', 'Academics', \n",
    "                            'Year 1', 'Sem 2', 'SP2273', 'os-collaboration-exercise-data', new_name)\n",
    "    os.rename(old_path, new_path)\n",
    "    return f'{old_name} ----> {new_name}'"
   ]
  },
  {
   "cell_type": "markdown",
   "id": "9e51aa2f",
   "metadata": {},
   "source": [
    "### Task 3"
   ]
  },
  {
   "cell_type": "code",
   "execution_count": 41,
   "id": "e2dba72e",
   "metadata": {},
   "outputs": [],
   "source": [
    "Set = ['oct-08_singapore.txt', 'jul-10_cairo.txt', 'may-15_dhaka.txt',\n",
    " 'may-13_cairo.txt', 'oct-21_cairo.txt', 'jan-10_singapore.txt',\n",
    " 'jun-20_tokyo.txt', 'aug-06_jakarta.txt', 'dec-21_karachi.txt',\n",
    " 'jan-01_tokyo.txt']"
   ]
  },
  {
   "cell_type": "code",
   "execution_count": 44,
   "id": "227014a4",
   "metadata": {},
   "outputs": [],
   "source": [
    "for name in Set:\n",
    "    try:\n",
    "        rename_my_file(name)\n",
    "    except FileNotFoundError:\n",
    "        continue"
   ]
  },
  {
   "cell_type": "markdown",
   "id": "3470c1d1",
   "metadata": {},
   "source": [
    "### Task 4"
   ]
  },
  {
   "cell_type": "code",
   "execution_count": 65,
   "id": "e619aa41",
   "metadata": {},
   "outputs": [],
   "source": [
    "import glob\n",
    "\n",
    "directory = '/Users/jiaruijin/Desktop/Academics/Year 1/Sem 2/SP2273/os-collaboration-exercise-data/*.txt'\n",
    "files = glob.glob(directory)\n",
    "for file in files:\n",
    "    file = os.path.split(file)[-1]\n",
    "    try:\n",
    "        rename_my_file(file)\n",
    "    except FileNotFoundError:\n",
    "        continue"
   ]
  },
  {
   "cell_type": "markdown",
   "id": "ff437415",
   "metadata": {},
   "source": [
    "### Task 5"
   ]
  },
  {
   "cell_type": "code",
   "execution_count": 66,
   "id": "5e9dfc5b",
   "metadata": {},
   "outputs": [],
   "source": [
    "cities = ['Cairo', 'Dhaka', 'Jakarta', 'Karachi', 'Manila',\n",
    " 'Melbourne', 'Osaka', 'Shanghai', 'Singapore', 'Tokyo']"
   ]
  },
  {
   "cell_type": "code",
   "execution_count": 67,
   "id": "4d1b7b47",
   "metadata": {},
   "outputs": [],
   "source": [
    "folder = '/Users/jiaruijin/Desktop/Academics/Year 1/Sem 2/SP2273/os-collaboration-exercise-data'\n",
    "for city in cities:\n",
    "    path = os.path.join(folder, city)\n",
    "    os.mkdir(path)"
   ]
  },
  {
   "cell_type": "markdown",
   "id": "1f02a515",
   "metadata": {},
   "source": [
    "### Task 6"
   ]
  },
  {
   "cell_type": "code",
   "execution_count": 68,
   "id": "24e00d1c",
   "metadata": {},
   "outputs": [],
   "source": [
    "import shutil\n",
    "\n",
    "cairo = glob.glob('/Users/jiaruijin/Desktop/Academics/Year 1/Sem 2/SP2273/os-collaboration-exercise-data/*-cairo.txt')\n",
    "for c in cairo:\n",
    "    shutil.copy(c, os.path.join(folder, 'Cairo'))"
   ]
  },
  {
   "cell_type": "markdown",
   "id": "c65453b5",
   "metadata": {},
   "source": [
    "### Task 7"
   ]
  },
  {
   "cell_type": "code",
   "execution_count": 71,
   "id": "0d14839d",
   "metadata": {},
   "outputs": [],
   "source": [
    "for city in cities:\n",
    "    file_directory = '/Users/jiaruijin/Desktop/Academics/Year 1/Sem 2/SP2273/os-collaboration-exercise-data/*-'+city.lower()+'.txt'\n",
    "    destination = os.path.join(folder, city)\n",
    "    files = glob.glob(file_directory)\n",
    "    for file in files:\n",
    "        shutil.copy(file, destination)"
   ]
  }
 ],
 "metadata": {
  "kernelspec": {
   "display_name": "Python 3 (ipykernel)",
   "language": "python",
   "name": "python3"
  },
  "language_info": {
   "codemirror_mode": {
    "name": "ipython",
    "version": 3
   },
   "file_extension": ".py",
   "mimetype": "text/x-python",
   "name": "python",
   "nbconvert_exporter": "python",
   "pygments_lexer": "ipython3",
   "version": "3.11.5"
  },
  "toc": {
   "base_numbering": 1,
   "nav_menu": {},
   "number_sections": true,
   "sideBar": true,
   "skip_h1_title": false,
   "title_cell": "Table of Contents",
   "title_sidebar": "Contents",
   "toc_cell": false,
   "toc_position": {},
   "toc_section_display": true,
   "toc_window_display": false
  },
  "vscode": {
   "interpreter": {
    "hash": "31f2aee4e71d21fbe5cf8b01ff0e069b9275f58929596ceb00d14d90e3e16cd6"
   }
  }
 },
 "nbformat": 4,
 "nbformat_minor": 5
}
