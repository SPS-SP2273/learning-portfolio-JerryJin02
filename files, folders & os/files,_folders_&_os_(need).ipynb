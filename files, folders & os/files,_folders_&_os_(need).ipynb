{
 "cells": [
  {
   "cell_type": "markdown",
   "id": "123456",
   "metadata": {},
   "source": [
    "<div style=\"text-align:left;font-size:2em\"><span style=\"font-weight:bolder;font-size:1.25em\">SP2273 | Learning Portfolio</span><br><br><span style=\"font-weight:bold;color:darkred\">Files, Folders & OS (Need)</span></div>"
   ]
  },
  {
   "cell_type": "markdown",
   "id": "383f802f",
   "metadata": {},
   "source": [
    "# What to expect in this chapter"
   ]
  },
  {
   "cell_type": "code",
   "execution_count": null,
   "id": "e35b304a",
   "metadata": {},
   "outputs": [],
   "source": [
    "# How Python can interact with the operating system (os). "
   ]
  },
  {
   "cell_type": "markdown",
   "id": "ffcee219",
   "metadata": {},
   "source": [
    "# 1 Important concepts"
   ]
  },
  {
   "cell_type": "code",
   "execution_count": null,
   "id": "b2413c4e",
   "metadata": {},
   "outputs": [],
   "source": [
    "# Folder and directory mean the same thing."
   ]
  },
  {
   "cell_type": "markdown",
   "id": "a43632d5",
   "metadata": {},
   "source": [
    "## 1.1 Path"
   ]
  },
  {
   "cell_type": "code",
   "execution_count": null,
   "id": "13e5e5d1",
   "metadata": {},
   "outputs": [],
   "source": [
    "# A path is a way (literally a way you can follow) to locate a file in your computer. \n",
    "# There are two types of paths: absolute and relative. \n",
    "# A absolute path is a unique address of a file inside your computer. \n",
    "# A relative path is an address relative to your current directory that you can use to locate a file. \n",
    "# This is an example of an absolute path:"
   ]
  },
  {
   "cell_type": "code",
   "execution_count": null,
   "id": "d785e191",
   "metadata": {},
   "outputs": [],
   "source": [
    "C:\\\\Users\\Chammika\\Desktop\\data-01.txt    # In Windows."
   ]
  },
  {
   "cell_type": "code",
   "execution_count": null,
   "id": "44671b36",
   "metadata": {},
   "outputs": [],
   "source": [
    "/Users/chammika/Desktop/data-01.txt    # An absolute path in MacOS."
   ]
  },
  {
   "cell_type": "markdown",
   "id": "ddbf6639",
   "metadata": {},
   "source": [
    "## 1.2 More about relative paths"
   ]
  },
  {
   "cell_type": "code",
   "execution_count": null,
   "id": "02c0a524",
   "metadata": {},
   "outputs": [],
   "source": [
    "# These are examples of relative paths:\n",
    ".\\data-files\\data-01.txt\n",
    "..\\data-files\\data-01.txt"
   ]
  },
  {
   "cell_type": "code",
   "execution_count": null,
   "id": "2230cb65",
   "metadata": {
    "collapsed": true
   },
   "outputs": [],
   "source": [
    "# Notice the difference between '.' and '..'. \n",
    "# ./ tells the program to look for the file from the current directory. \n",
    "# ../ tells the program to go up to the parent directory (previous folder) before looking for the file. "
   ]
  },
  {
   "cell_type": "markdown",
   "id": "fe37c7d9",
   "metadata": {},
   "source": [
    "### macOS or Linux"
   ]
  },
  {
   "cell_type": "code",
   "execution_count": null,
   "id": "97c7aad4",
   "metadata": {},
   "outputs": [],
   "source": [
    "# In both Linux and MacOS, '~' means home directory (ie, /home/user)."
   ]
  },
  {
   "cell_type": "markdown",
   "id": "64157acb",
   "metadata": {},
   "source": [
    "## 1.3 Path separator"
   ]
  },
  {
   "cell_type": "code",
   "execution_count": null,
   "id": "09467c32",
   "metadata": {},
   "outputs": [],
   "source": [
    "# For path separator, MacOS and Linux uses '/' while Windows uses '\\'. \n",
    "# Examples are given above."
   ]
  },
  {
   "cell_type": "markdown",
   "id": "4d57bfae",
   "metadata": {},
   "source": [
    "## 1.4 Text files vs. Binary files"
   ]
  },
  {
   "cell_type": "code",
   "execution_count": null,
   "id": "a9d56e6b",
   "metadata": {},
   "outputs": [],
   "source": [
    "# There are two types of files. \n",
    "# Text files are those that we can open and read directly. Examples of text files include .txt and .csv files. \n",
    "# Binary files are coded files that can only be read after ran by an OS. Examples of binary files include raw .png.\n",
    "# The file format for binary files need to be compatible with the OS for it to run successfully."
   ]
  },
  {
   "cell_type": "markdown",
   "id": "abfc92e0",
   "metadata": {},
   "source": [
    "## 1.5 Extensions"
   ]
  },
  {
   "cell_type": "code",
   "execution_count": null,
   "id": "5de6e443",
   "metadata": {},
   "outputs": [],
   "source": [
    "# Extensions are the last part in a file's name. It is the essentially the instruction telling OS how this file \\\n",
    "#     should be processed. "
   ]
  },
  {
   "cell_type": "markdown",
   "id": "0a18d08f",
   "metadata": {},
   "source": [
    "# 2 Opening and closing files"
   ]
  },
  {
   "cell_type": "markdown",
   "id": "7836ea78",
   "metadata": {},
   "source": [
    "## 2.1 Reading data"
   ]
  },
  {
   "cell_type": "code",
   "execution_count": null,
   "id": "6b3701bd",
   "metadata": {},
   "outputs": [],
   "source": [
    "# open() command opens up a local file. \n",
    "with open('spectrum-01.txt', 'r') as file:    # The use of with command is convenient because it takes care of \\\n",
    "                                              #    closing of file automatically as well (crucial in saving memory).\n",
    "    file_content = file.read()\n",
    "\n",
    "print(file_content)"
   ]
  },
  {
   "cell_type": "code",
   "execution_count": null,
   "id": "290ddea9",
   "metadata": {},
   "outputs": [],
   "source": [
    "# 'r' specifies that the mode we want to open the file with is 'read'."
   ]
  },
  {
   "cell_type": "markdown",
   "id": "a6884e89",
   "metadata": {},
   "source": [
    "## 2.2 Writing data"
   ]
  },
  {
   "cell_type": "code",
   "execution_count": 1,
   "id": "7c752a79",
   "metadata": {},
   "outputs": [],
   "source": [
    "# Let's say we want to write the following text into a newly created txt file. \n",
    "text = 'Far out in the uncharted backwaters of the unfashionable end of the western spiral arm of the Galaxy lies a small unregarded yellow sun.\\nOrbiting this at a distance of roughly ninety-two million miles is an utterly insignificant little blue green planet whose ape-descended life forms are so amazingly primitive that they still think digital watches are a pretty neat idea.'"
   ]
  },
  {
   "cell_type": "markdown",
   "id": "852ac4d0",
   "metadata": {},
   "source": [
    "### Writing to a file in one go"
   ]
  },
  {
   "cell_type": "code",
   "execution_count": null,
   "id": "1135550f",
   "metadata": {},
   "outputs": [],
   "source": [
    "with open('my-text-once.txt', 'w') as file: # Notice that we have 'w' for 'write' this time.\n",
    "    file.write(text)                        # If there exists no file under the name 'my-text-once.txt', a new \\\n",
    "                                            #     file of that name will be created. "
   ]
  },
  {
   "cell_type": "markdown",
   "id": "75e36124",
   "metadata": {},
   "source": [
    "### Writing to a file, line by line"
   ]
  },
  {
   "cell_type": "code",
   "execution_count": null,
   "id": "e16e968f",
   "metadata": {},
   "outputs": [],
   "source": [
    "with open('my-text-lines.txt', 'w') as file:\n",
    "    for line in text.splitlines():    # splitlines() function splits our text by individual sentences.\n",
    "        file.writelines(line)         # writelines() command write in the file line by line.\n",
    "                                      # This process of writing into a file is generally slow."
   ]
  },
  {
   "cell_type": "markdown",
   "id": "28ba5fc0",
   "metadata": {},
   "source": [
    "# 3 Some useful packages"
   ]
  },
  {
   "cell_type": "code",
   "execution_count": null,
   "id": "85621dee",
   "metadata": {},
   "outputs": [],
   "source": [
    "# os, glob, and shutil are all useful packages. \n",
    "# They each serves the following functions:"
   ]
  },
  {
   "attachments": {
    "Screenshot%202024-02-12%20at%2017.41.12.png": {
     "image/png": "[encoded data removed]"
    }
   },
   "cell_type": "markdown",
   "id": "1b0525e9",
   "metadata": {},
   "source": [
    "![Screenshot%202024-02-12%20at%2017.41.12.png](attachment:Screenshot%202024-02-12%20at%2017.41.12.png)"
   ]
  },
  {
   "cell_type": "code",
   "execution_count": 18,
   "id": "774b4d9a",
   "metadata": {},
   "outputs": [],
   "source": [
    "# Now we import them in once and for all.\n",
    "import os\n",
    "import glob\n",
    "import shutil \n",
    "# As a gentle reminder, packages in Python must be imported one by one."
   ]
  },
  {
   "cell_type": "markdown",
   "id": "3b661902",
   "metadata": {},
   "source": [
    "# 4 OS safe paths"
   ]
  },
  {
   "cell_type": "code",
   "execution_count": 3,
   "id": "e725c58a",
   "metadata": {},
   "outputs": [
    {
     "name": "stdout",
     "output_type": "stream",
     "text": [
      "./all-data/sg-data/data-01.txt\n"
     ]
    }
   ],
   "source": [
    "# os.path.join is a powerful function that joins together different segments of a file directory.\n",
    "# os.path.join automatically fills in the correct path separator depending on the OS you are running. \n",
    "path = os.path.join('.', 'all-data', 'sg-data', 'data-01.txt')\n",
    "print(path)"
   ]
  },
  {
   "cell_type": "markdown",
   "id": "48fb325d",
   "metadata": {},
   "source": [
    "# 5 Folders"
   ]
  },
  {
   "cell_type": "markdown",
   "id": "c6ff3f0b",
   "metadata": {},
   "source": [
    "## 5.1 Creating folders"
   ]
  },
  {
   "cell_type": "code",
   "execution_count": null,
   "id": "ca476631",
   "metadata": {},
   "outputs": [],
   "source": [
    "# os.mkdir (stands for 'make directory') creates new folder with the assigned name. \n",
    "\n",
    "os.mkdir('people')    # OS is NOT case-sensitive. Hence if this line does not work, then os.makdir('People') will \\\n",
    "                      #     also not work.\n",
    "\n",
    "for person in ['John', 'Paul', 'Ringo']:\n",
    "    path = os.path.join('people', person)\n",
    "    print(f'Creating {path}')\n",
    "    os.mkdir(path)"
   ]
  },
  {
   "cell_type": "markdown",
   "id": "bbc76102",
   "metadata": {},
   "source": [
    "## 5.2 Checking for existence"
   ]
  },
  {
   "cell_type": "markdown",
   "id": "2cd87ee7",
   "metadata": {},
   "source": [
    "### Using try-except"
   ]
  },
  {
   "cell_type": "code",
   "execution_count": null,
   "id": "1a4d47e8",
   "metadata": {},
   "outputs": [],
   "source": [
    "# However, if the file/folder you want to create already existed (under the same name), Python will raise \\\n",
    "#     FileExistsError. As always, to check for existance and circumvent such error, we can use a try-except block.\n",
    "for person in ['John', 'Paul', 'Ringo']:\n",
    "    path = os.path.join('people', person)\n",
    "    try:\n",
    "        os.mkdir(path)\n",
    "        print(f'Creating {path}')\n",
    "    except FileExistsError:\n",
    "        print(f'{path} already exists; skipping creation.')"
   ]
  },
  {
   "cell_type": "markdown",
   "id": "078eac49",
   "metadata": {},
   "source": [
    "### Using os.path.exists()"
   ]
  },
  {
   "cell_type": "code",
   "execution_count": null,
   "id": "0ce7a449",
   "metadata": {},
   "outputs": [],
   "source": [
    "# Alternatively, os also provides a built-in function that checks for files' existences.\n",
    "# The function that does the job is os.path.exists(). This is a Boolean function, it outputs only True or False.\n",
    "for person in ['John', 'Paul', 'Ringo']:\n",
    "    path = os.path.join('people', person)\n",
    "    if os.path.exists(path):\n",
    "        print(f'{path} already exists; skipping creation.')\n",
    "    else:\n",
    "        os.mkdir(path)\n",
    "        print(f'Creating {path}')"
   ]
  },
  {
   "cell_type": "markdown",
   "id": "19dd80f4",
   "metadata": {},
   "source": [
    "## 5.3 Copying files"
   ]
  },
  {
   "cell_type": "code",
   "execution_count": null,
   "id": "5ad32e2d",
   "metadata": {},
   "outputs": [],
   "source": [
    "# shutil provides a shutil.copy() function that can copy a file to a different directory. \n",
    "for person in ['John', 'Paul', 'Ringo']:\n",
    "    path_to_destination = os.path.join('people', person)\n",
    "    shutil.copy('sp2273_logo.png', path_to_destination)  # shutil.copy automatically returns the file's destination.\n",
    "    print(f'Copied file to {path_to_destination}')"
   ]
  },
  {
   "cell_type": "code",
   "execution_count": 4,
   "id": "97a6378c",
   "metadata": {},
   "outputs": [
    {
     "name": "stdout",
     "output_type": "stream",
     "text": [
      "Help on function copy in module shutil:\n",
      "\n",
      "copy(src, dst, *, follow_symlinks=True)\n",
      "    Copy data and mode bits (\"cp src dst\"). Return the file's destination.\n",
      "    \n",
      "    The destination may be a directory.\n",
      "    \n",
      "    If follow_symlinks is false, symlinks won't be followed. This\n",
      "    resembles GNU's \"cp -P src dst\".\n",
      "    \n",
      "    If source and destination are the same file, a SameFileError will be\n",
      "    raised.\n",
      "\n"
     ]
    }
   ],
   "source": [
    "help(shutil.copy)"
   ]
  },
  {
   "cell_type": "code",
   "execution_count": null,
   "id": "ce5427ca",
   "metadata": {},
   "outputs": [],
   "source": [
    "# shutil also provides shutil.move() function that can move an existing file to a different directory.\n",
    "for person in ['John', 'Paul', 'Ringo']:\n",
    "    # Create folder 'imgs'\n",
    "    path_to_imgs = os.path.join('people', person, 'imgs')\n",
    "    if not os.path.exists(path_to_imgs):\n",
    "        os.mkdir(path_to_imgs)\n",
    "\n",
    "    # Move logo file\n",
    "    current_path_of_logo = os.path.join('people', person, 'sp2273_logo.png')\n",
    "    new_path_of_logo = os.path.join('people', person, 'imgs', 'sp2273_logo.png')\n",
    "\n",
    "    shutil.move(current_path_of_logo, new_path_of_logo)  # Again, shutil.move returns files' new directory.\n",
    "    print(f'Moved logo to {new_path_of_logo}')"
   ]
  },
  {
   "cell_type": "code",
   "execution_count": 5,
   "id": "bbd363ed",
   "metadata": {},
   "outputs": [
    {
     "name": "stdout",
     "output_type": "stream",
     "text": [
      "Help on function move in module shutil:\n",
      "\n",
      "move(src, dst, copy_function=<function copy2 at 0x104f63560>)\n",
      "    Recursively move a file or directory to another location. This is\n",
      "    similar to the Unix \"mv\" command. Return the file or directory's\n",
      "    destination.\n",
      "    \n",
      "    If the destination is a directory or a symlink to a directory, the source\n",
      "    is moved inside the directory. The destination path must not already\n",
      "    exist.\n",
      "    \n",
      "    If the destination already exists but is not a directory, it may be\n",
      "    overwritten depending on os.rename() semantics.\n",
      "    \n",
      "    If the destination is on our current filesystem, then rename() is used.\n",
      "    Otherwise, src is copied to the destination and then removed. Symlinks are\n",
      "    recreated under the new name if os.rename() fails because of cross\n",
      "    filesystem renames.\n",
      "    \n",
      "    The optional `copy_function` argument is a callable that will be used\n",
      "    to copy the source or it will be delegated to `copytree`.\n",
      "    By default, copy2() is used, but any function that supports the same\n",
      "    signature (like copy()) can be used.\n",
      "    \n",
      "    A lot more could be done here...  A look at a mv.c shows a lot of\n",
      "    the issues this implementation glosses over.\n",
      "\n"
     ]
    }
   ],
   "source": [
    "help(shutil.move)"
   ]
  },
  {
   "cell_type": "markdown",
   "id": "e136c63b",
   "metadata": {},
   "source": [
    "# 6 Listing and looking for files"
   ]
  },
  {
   "cell_type": "code",
   "execution_count": null,
   "id": "3c629195",
   "metadata": {},
   "outputs": [],
   "source": [
    "# glob offers convenient ways to search for files. \n",
    "glob.glob('*')  # '*' searches for everything. If no directory specified, then by default Python looks at the \n",
    "                #     current directory."
   ]
  },
  {
   "cell_type": "code",
   "execution_count": 6,
   "id": "650ac819",
   "metadata": {},
   "outputs": [
    {
     "name": "stdout",
     "output_type": "stream",
     "text": [
      "Help on function glob in module glob:\n",
      "\n",
      "glob(pathname, *, root_dir=None, dir_fd=None, recursive=False, include_hidden=False)\n",
      "    Return a list of paths matching a pathname pattern.\n",
      "    \n",
      "    The pattern may contain simple shell-style wildcards a la\n",
      "    fnmatch. Unlike fnmatch, filenames starting with a\n",
      "    dot are special cases that are not matched by '*' and '?'\n",
      "    patterns by default.\n",
      "    \n",
      "    If `include_hidden` is true, the patterns '*', '?', '**'  will match hidden\n",
      "    directories.\n",
      "    \n",
      "    If `recursive` is true, the pattern '**' will match any files and\n",
      "    zero or more directories and subdirectories.\n",
      "\n"
     ]
    }
   ],
   "source": [
    "help(glob.glob)"
   ]
  },
  {
   "cell_type": "code",
   "execution_count": null,
   "id": "da924073",
   "metadata": {},
   "outputs": [],
   "source": [
    "glob.glob('peo*')   # Python looks for all files whose name matches the first three characters. "
   ]
  },
  {
   "cell_type": "code",
   "execution_count": null,
   "id": "2d7f05c6",
   "metadata": {},
   "outputs": [],
   "source": [
    "glob.glob('peo*/*')   # Python looks for files inside every folder whose name matches the first three characters."
   ]
  },
  {
   "cell_type": "code",
   "execution_count": null,
   "id": "cdf2c744",
   "metadata": {},
   "outputs": [],
   "source": [
    "glob.glob('people/**', recursive=True)   # Python looks for all sub-directories (indicated by '**') under 'people'. \n",
    "                                         # When it hits the bottom level, it recurses back and down another folder."
   ]
  },
  {
   "cell_type": "code",
   "execution_count": null,
   "id": "777fbb2d",
   "metadata": {},
   "outputs": [],
   "source": [
    "glob.glob('people/**/*.png', recursive=True)  # Python looks for all .png files in all sub-directories of 'people'."
   ]
  },
  {
   "cell_type": "markdown",
   "id": "16d85400",
   "metadata": {},
   "source": [
    "# 7 Extracting file info"
   ]
  },
  {
   "cell_type": "code",
   "execution_count": 10,
   "id": "f75fefd3",
   "metadata": {},
   "outputs": [
    {
     "name": "stdout",
     "output_type": "stream",
     "text": [
      "sp2273_logo.png png\n"
     ]
    }
   ],
   "source": [
    "path = 'people/Ringo/imgs/sp2273_logo.png'\n",
    "filename = path.split(os.path.sep)[-1]   # os.path.sep is the path separator '/'. This line basically splits up \\\n",
    "                                         #     the path by '/'. Since path is a str, str.split returns a list.\n",
    "                                         # The last element in that list is the name of the file: sp2273_logo.png\n",
    "extension = filename.split('.')[-1]      # To separate the extension from the name of file, separate the filename \\\n",
    "                                         #     by '.'. Again, the last element is the extension, and the first \\\n",
    "                                         #     element in the list the actual name of the file.\n",
    "print(filename, extension)"
   ]
  },
  {
   "cell_type": "code",
   "execution_count": 13,
   "id": "de57c692",
   "metadata": {},
   "outputs": [
    {
     "data": {
      "text/plain": [
       "('people/Ringo/imgs', 'sp2273_logo.png')"
      ]
     },
     "execution_count": 13,
     "metadata": {},
     "output_type": "execute_result"
    }
   ],
   "source": [
    "# os also provides special functions that perform the same job. \n",
    "# os.path.split splits the parent directory and the filename of a file and groups them into a tuple.\n",
    "os.path.split(path)      # Split filename from the rest"
   ]
  },
  {
   "cell_type": "code",
   "execution_count": 14,
   "id": "e5c25b79",
   "metadata": {},
   "outputs": [
    {
     "name": "stdout",
     "output_type": "stream",
     "text": [
      "<class 'tuple'>\n"
     ]
    }
   ],
   "source": [
    "print(type(os.path.split(path)))"
   ]
  },
  {
   "cell_type": "code",
   "execution_count": 15,
   "id": "e93ab759",
   "metadata": {},
   "outputs": [
    {
     "data": {
      "text/plain": [
       "('people/Ringo/imgs/sp2273_logo', '.png')"
      ]
     },
     "execution_count": 15,
     "metadata": {},
     "output_type": "execute_result"
    }
   ],
   "source": [
    "# os.path.splitext splits the extension and the rest of a file and groups them into a tuple.\n",
    "os.path.splitext(path)   # Split extension"
   ]
  },
  {
   "cell_type": "code",
   "execution_count": 16,
   "id": "ca7df5f4",
   "metadata": {},
   "outputs": [
    {
     "data": {
      "text/plain": [
       "'people/Ringo/imgs'"
      ]
     },
     "execution_count": 16,
     "metadata": {},
     "output_type": "execute_result"
    }
   ],
   "source": [
    "# os.path.dirname returns the parent directory of a file.\n",
    "os.path.dirname(path)    # Show the directory"
   ]
  },
  {
   "cell_type": "markdown",
   "id": "7b02be62",
   "metadata": {},
   "source": [
    "# 8 Deleting stuff"
   ]
  },
  {
   "cell_type": "code",
   "execution_count": null,
   "id": "b1784e35",
   "metadata": {},
   "outputs": [],
   "source": [
    "# Both os and shutil provide ways to remove/delete a file or a folder. \n",
    "# os.remove removes a file (not a folder).\n",
    "os.remove('people/Ringo/imgs/sp2273_logo.png')"
   ]
  },
  {
   "cell_type": "code",
   "execution_count": null,
   "id": "21940bbc",
   "metadata": {},
   "outputs": [],
   "source": [
    "# os.rmdir (stands for 'remove directory') removes an empty directory. \n",
    "# Note that this directory must be empty, otherwise, an OsError will be raise.\n",
    "os.rmdir('people/Ringo')"
   ]
  },
  {
   "cell_type": "code",
   "execution_count": null,
   "id": "c9ea4aa3",
   "metadata": {},
   "outputs": [],
   "source": [
    "# To remove an non-empty directory, shutil.rmtree (stands for 'remove tree') could be used.\n",
    "shutil.rmtree('people/Ringo')"
   ]
  },
  {
   "cell_type": "code",
   "execution_count": 23,
   "id": "ea5fbe22",
   "metadata": {},
   "outputs": [
    {
     "name": "stdout",
     "output_type": "stream",
     "text": [
      "Please enter the directory you want to remove: /Users/jiaruijin/Desktop/untitled folder\n",
      "Are you sure you want to remove the directory /Users/jiaruijin/Desktop/untitled folder: yes\n"
     ]
    }
   ],
   "source": [
    "directory = input('Please enter the directory you want to remove: ')\n",
    "confirmation = input(f'Are you sure you want to remove the directory {directory}: ')\n",
    "if confirmation.lower() == 'yes':\n",
    "    shutil.rmtree(directory)"
   ]
  },
  {
   "cell_type": "code",
   "execution_count": 17,
   "id": "b8946af5",
   "metadata": {},
   "outputs": [
    {
     "name": "stdout",
     "output_type": "stream",
     "text": [
      "Help on built-in function rmdir in module posix:\n",
      "\n",
      "rmdir(path, *, dir_fd=None)\n",
      "    Remove a directory.\n",
      "    \n",
      "    If dir_fd is not None, it should be a file descriptor open to a directory,\n",
      "      and path should be relative; path will then be relative to that directory.\n",
      "    dir_fd may not be implemented on your platform.\n",
      "      If it is unavailable, using it will raise a NotImplementedError.\n",
      "\n"
     ]
    }
   ],
   "source": [
    "help(os.rmdir)"
   ]
  }
 ],
 "metadata": {
  "kernelspec": {
   "display_name": "Python 3 (ipykernel)",
   "language": "python",
   "name": "python3"
  },
  "language_info": {
   "codemirror_mode": {
    "name": "ipython",
    "version": 3
   },
   "file_extension": ".py",
   "mimetype": "text/x-python",
   "name": "python",
   "nbconvert_exporter": "python",
   "pygments_lexer": "ipython3",
   "version": "3.11.5"
  },
  "toc": {
   "base_numbering": 1,
   "nav_menu": {},
   "number_sections": true,
   "sideBar": true,
   "skip_h1_title": false,
   "title_cell": "Table of Contents",
   "title_sidebar": "Contents",
   "toc_cell": false,
   "toc_position": {},
   "toc_section_display": true,
   "toc_window_display": false
  },
  "vscode": {
   "interpreter": {
    "hash": "31f2aee4e71d21fbe5cf8b01ff0e069b9275f58929596ceb00d14d90e3e16cd6"
   }
  }
 },
 "nbformat": 4,
 "nbformat_minor": 5
}
