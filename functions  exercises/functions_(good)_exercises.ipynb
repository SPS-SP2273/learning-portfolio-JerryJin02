{
 "cells": [
  {
   "cell_type": "markdown",
   "id": "123456",
   "metadata": {},
   "source": [
    "<div style=\"text-align:left;font-size:2em\"><span style=\"font-weight:bolder;font-size:1.25em\">SP2273 | Learning Portfolio</span><br><br><span style=\"font-weight:bold;color:darkred\">Functions (Good) Exercises</span></div>"
   ]
  },
  {
   "cell_type": "markdown",
   "id": "cd5a0965",
   "metadata": {},
   "source": [
    "## Exercise 1"
   ]
  },
  {
   "cell_type": "code",
   "execution_count": 1,
   "id": "84629958",
   "metadata": {},
   "outputs": [],
   "source": [
    "def convert_celsius(temp_celsius, target_scale=\"Fahrenheit\"):\n",
    "    if target_scale.lower() in [\"fahrenheit\", \"f\"]:\n",
    "        f = 32 + (temp_celsius * 9/5)\n",
    "        return f'{temp_celsius}°C is {f}°F'\n",
    "    elif target_scale.lower() in [\"kelvin\", \"k\"]:\n",
    "        kelvin = temp_celsius + 273.15\n",
    "        return f'{temp_celsius}°C is {kelvin}K'\n",
    "    else:\n",
    "        return \"Please enter a valid temperature scale!\""
   ]
  },
  {
   "cell_type": "code",
   "execution_count": 5,
   "id": "bef58098",
   "metadata": {},
   "outputs": [
    {
     "data": {
      "text/plain": [
       "'Please enter a valid temperature scale!'"
      ]
     },
     "execution_count": 5,
     "metadata": {},
     "output_type": "execute_result"
    }
   ],
   "source": [
    "convert_celsius(0, \"R\")"
   ]
  },
  {
   "cell_type": "markdown",
   "id": "a6ba7dc8",
   "metadata": {},
   "source": [
    "## Exercise 2"
   ]
  },
  {
   "cell_type": "code",
   "execution_count": 2,
   "id": "f5f9f09a",
   "metadata": {},
   "outputs": [],
   "source": [
    "def convert_fahrenheit(temp_f, target_scale=\"Celsius\"):\n",
    "    if target_scale.lower() in [\"celsius\", \"c\"]:\n",
    "        c = round((temp_f - 32) * 5/9, 2)\n",
    "        return f'{temp_f}°F is {c}°C'\n",
    "    elif target_scale.lower() in [\"kelvin\", \"k\"]:\n",
    "        kelvin = round((temp_f - 32) * 5/9 + 273.15, 2)\n",
    "        return f'{temp_f}°F is {kelvin}K'\n",
    "    else:\n",
    "        return \"Please enter a valid temperature scale!\""
   ]
  },
  {
   "cell_type": "code",
   "execution_count": 6,
   "id": "b75d8613",
   "metadata": {},
   "outputs": [
    {
     "data": {
      "text/plain": [
       "'0°F is 255.37K'"
      ]
     },
     "execution_count": 6,
     "metadata": {},
     "output_type": "execute_result"
    }
   ],
   "source": [
    "convert_fahrenheit(0, \"K\")"
   ]
  },
  {
   "cell_type": "markdown",
   "id": "3e04204c",
   "metadata": {},
   "source": [
    "## Exercise 3"
   ]
  },
  {
   "cell_type": "code",
   "execution_count": 3,
   "id": "50171a38",
   "metadata": {},
   "outputs": [],
   "source": [
    "def convert_kelvin(temp_kelvin, target_scale=\"Celsius\"):\n",
    "    if target_scale.lower() in [\"celsius\", \"c\"]:\n",
    "        c = temp_kelvin - 273.15\n",
    "        return f'{temp_kelvin}K is {c}°C'\n",
    "    elif target_scale.lower() in [\"fahrenheit\", \"f\"]:\n",
    "        f = round(32 + ((temp_kelvin - 273.15) * 9/5), 2)\n",
    "        return f'{temp_kelvin}K is {f}°F'\n",
    "    else:\n",
    "        return \"Please enter a valid temperature scale!\""
   ]
  },
  {
   "cell_type": "code",
   "execution_count": 4,
   "id": "e97fe712",
   "metadata": {},
   "outputs": [],
   "source": [
    "def convert_temperature(temperature, source_scale, target_scale):\n",
    "    if source_scale.lower() in [\"celsius\", \"c\"]:\n",
    "        return convert_celsius(temperature, target_scale)\n",
    "    elif source_scale.lower() in [\"fahrenheit\", \"f\"]:\n",
    "        return convert_fahrenheit(temperature, target_scale)\n",
    "    elif source_scale.lower() in [\"kelvin\", \"k\"]:\n",
    "        return convert_kelvin(temperature, target_scale)\n",
    "    else:\n",
    "        return \"Please enter a valid temperature scale!\""
   ]
  },
  {
   "cell_type": "code",
   "execution_count": 7,
   "id": "2983c94c",
   "metadata": {},
   "outputs": [
    {
     "data": {
      "text/plain": [
       "'15K is -432.67°F'"
      ]
     },
     "execution_count": 7,
     "metadata": {},
     "output_type": "execute_result"
    }
   ],
   "source": [
    "convert_temperature(15, \"K\", \"F\")"
   ]
  }
 ],
 "metadata": {
  "kernelspec": {
   "display_name": "Python 3 (ipykernel)",
   "language": "python",
   "name": "python3"
  },
  "language_info": {
   "codemirror_mode": {
    "name": "ipython",
    "version": 3
   },
   "file_extension": ".py",
   "mimetype": "text/x-python",
   "name": "python",
   "nbconvert_exporter": "python",
   "pygments_lexer": "ipython3",
   "version": "3.11.5"
  },
  "toc": {
   "base_numbering": 1,
   "nav_menu": {},
   "number_sections": true,
   "sideBar": true,
   "skip_h1_title": false,
   "title_cell": "Table of Contents",
   "title_sidebar": "Contents",
   "toc_cell": false,
   "toc_position": {},
   "toc_section_display": true,
   "toc_window_display": false
  },
  "vscode": {
   "interpreter": {
    "hash": "31f2aee4e71d21fbe5cf8b01ff0e069b9275f58929596ceb00d14d90e3e16cd6"
   }
  }
 },
 "nbformat": 4,
 "nbformat_minor": 5
}
