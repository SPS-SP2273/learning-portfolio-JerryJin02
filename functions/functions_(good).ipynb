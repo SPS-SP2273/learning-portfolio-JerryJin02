{
 "cells": [
  {
   "cell_type": "markdown",
   "id": "123456",
   "metadata": {},
   "source": [
    "<div style=\"text-align:left;font-size:2em\"><span style=\"font-weight:bolder;font-size:1.25em\">SP2273 | Learning Portfolio</span><br><br><span style=\"font-weight:bold;color:darkred\">Functions (Good)</span></div>"
   ]
  },
  {
   "cell_type": "markdown",
   "id": "b3450f77",
   "metadata": {},
   "source": [
    "# What to expect in this chapter"
   ]
  },
  {
   "cell_type": "code",
   "execution_count": null,
   "id": "1eb76111",
   "metadata": {},
   "outputs": [],
   "source": [
    "# How to elegantly handle errors?"
   ]
  },
  {
   "cell_type": "code",
   "execution_count": 16,
   "id": "2e35e6ed",
   "metadata": {},
   "outputs": [],
   "source": [
    "import numpy as np"
   ]
  },
  {
   "cell_type": "markdown",
   "id": "cc23b7de",
   "metadata": {},
   "source": [
    "# 1 Checks, balances, and contingencies"
   ]
  },
  {
   "cell_type": "markdown",
   "id": "df0248e5",
   "metadata": {},
   "source": [
    "## 1.1 assert"
   ]
  },
  {
   "cell_type": "code",
   "execution_count": null,
   "id": "287a9d6c",
   "metadata": {},
   "outputs": [],
   "source": [
    "# Assert is straightforward and checks for a condition. If the condition is met, the code keeps on running. \n",
    "# If the condition is not met, Python raises a AssertionError, outputs a message you want, and stops the program."
   ]
  },
  {
   "cell_type": "code",
   "execution_count": null,
   "id": "e6ada0b4",
   "metadata": {},
   "outputs": [],
   "source": [
    "# The basic syntax is: assert condition-to-check, message"
   ]
  },
  {
   "cell_type": "code",
   "execution_count": 1,
   "id": "7a41219b",
   "metadata": {},
   "outputs": [],
   "source": [
    "x = 10\n",
    "assert x >= 0, \"x is becoming negative!\""
   ]
  },
  {
   "cell_type": "code",
   "execution_count": 2,
   "id": "d33145a3",
   "metadata": {},
   "outputs": [
    {
     "ename": "AssertionError",
     "evalue": "x is becoming negative!",
     "output_type": "error",
     "traceback": [
      "\u001b[0;31m---------------------------------------------------------------------------\u001b[0m",
      "\u001b[0;31mAssertionError\u001b[0m                            Traceback (most recent call last)",
      "Cell \u001b[0;32mIn[2], line 2\u001b[0m\n\u001b[1;32m      1\u001b[0m x \u001b[38;5;241m=\u001b[39m \u001b[38;5;241m-\u001b[39m\u001b[38;5;241m1\u001b[39m\n\u001b[0;32m----> 2\u001b[0m \u001b[38;5;28;01massert\u001b[39;00m x \u001b[38;5;241m>\u001b[39m\u001b[38;5;241m=\u001b[39m \u001b[38;5;241m0\u001b[39m, \u001b[38;5;124m\"\u001b[39m\u001b[38;5;124mx is becoming negative!\u001b[39m\u001b[38;5;124m\"\u001b[39m\n",
      "\u001b[0;31mAssertionError\u001b[0m: x is becoming negative!"
     ]
    }
   ],
   "source": [
    "x = -1\n",
    "assert x >= 0, \"x is becoming negative!\"    # One line only. Very compact."
   ]
  },
  {
   "cell_type": "code",
   "execution_count": null,
   "id": "275adb4d",
   "metadata": {},
   "outputs": [],
   "source": [
    "# The same task can be done using a raise statement (just a bit longer)."
   ]
  },
  {
   "cell_type": "code",
   "execution_count": 4,
   "id": "3a4e7227",
   "metadata": {},
   "outputs": [
    {
     "ename": "AssertionError",
     "evalue": "x is becoming negative!",
     "output_type": "error",
     "traceback": [
      "\u001b[0;31m---------------------------------------------------------------------------\u001b[0m",
      "\u001b[0;31mAssertionError\u001b[0m                            Traceback (most recent call last)",
      "Cell \u001b[0;32mIn[4], line 3\u001b[0m\n\u001b[1;32m      1\u001b[0m x \u001b[38;5;241m=\u001b[39m \u001b[38;5;241m-\u001b[39m\u001b[38;5;241m1\u001b[39m\n\u001b[1;32m      2\u001b[0m \u001b[38;5;28;01mif\u001b[39;00m x \u001b[38;5;241m<\u001b[39m\u001b[38;5;241m=\u001b[39m \u001b[38;5;241m0\u001b[39m:\n\u001b[0;32m----> 3\u001b[0m     \u001b[38;5;28;01mraise\u001b[39;00m \u001b[38;5;167;01mAssertionError\u001b[39;00m(\u001b[38;5;124m\"\u001b[39m\u001b[38;5;124mx is becoming negative!\u001b[39m\u001b[38;5;124m\"\u001b[39m)\n",
      "\u001b[0;31mAssertionError\u001b[0m: x is becoming negative!"
     ]
    }
   ],
   "source": [
    "x = -1\n",
    "if x <= 0:    # Notice how the difference here is that raise checks for if the condition fails (if x is negative), \\\n",
    "              #     while assert checks for if the condition holds (if x is positive).\n",
    "    raise AssertionError(\"x is becoming negative!\")"
   ]
  },
  {
   "cell_type": "markdown",
   "id": "f258751c",
   "metadata": {},
   "source": [
    "## 1.2 try-except"
   ]
  },
  {
   "cell_type": "code",
   "execution_count": null,
   "id": "e81f6c32",
   "metadata": {},
   "outputs": [],
   "source": [
    "# try-except block is a super powerful tool to handle exceptions in Python and make your code more elegant. \n",
    "# The basic idea is that inside the try block, you put the block of codes which you think there might be an error, \\\n",
    "#     and inside the except block, you put the block of codes you wish to run if an error is raised.\n",
    "# If an error is not raised, that block of codes runs normally, and the except block is ignored. \n",
    "# As soon as an error is raised, Python jumps out of the try block and execute whatever is inside of except block.\n",
    "# One can also specify the types of error you were looking for in the except block, so that Python only looks for \\\n",
    "#     that specific type of error. \n",
    "# With this feature, one can have multiple except block to handle different error differently (like an elif block \\\n",
    "#     for exceptions).\n",
    "# One can also include a finally block at the end, which the program will always run regardless whether an error \n",
    "#     is raised or not."
   ]
  },
  {
   "cell_type": "code",
   "execution_count": 5,
   "id": "7549c8ba",
   "metadata": {},
   "outputs": [
    {
     "name": "stdout",
     "output_type": "stream",
     "text": [
      "Give me a number and I will calculate its square.hahaha\n"
     ]
    },
    {
     "ename": "ValueError",
     "evalue": "invalid literal for int() with base 10: 'hahaha'",
     "output_type": "error",
     "traceback": [
      "\u001b[0;31m---------------------------------------------------------------------------\u001b[0m",
      "\u001b[0;31mValueError\u001b[0m                                Traceback (most recent call last)",
      "Cell \u001b[0;32mIn[5], line 2\u001b[0m\n\u001b[1;32m      1\u001b[0m number\u001b[38;5;241m=\u001b[39m\u001b[38;5;28minput\u001b[39m(\u001b[38;5;124m\"\u001b[39m\u001b[38;5;124mGive me a number and I will calculate its square.\u001b[39m\u001b[38;5;124m\"\u001b[39m)\n\u001b[0;32m----> 2\u001b[0m square\u001b[38;5;241m=\u001b[39m\u001b[38;5;28mint\u001b[39m(number)\u001b[38;5;241m*\u001b[39m\u001b[38;5;241m*\u001b[39m\u001b[38;5;241m2\u001b[39m              \u001b[38;5;66;03m# Convert English to number\u001b[39;00m\n\u001b[1;32m      3\u001b[0m \u001b[38;5;28mprint\u001b[39m(\u001b[38;5;124mf\u001b[39m\u001b[38;5;124m'\u001b[39m\u001b[38;5;124mThe square of \u001b[39m\u001b[38;5;132;01m{\u001b[39;00mnumber\u001b[38;5;132;01m}\u001b[39;00m\u001b[38;5;124m is \u001b[39m\u001b[38;5;132;01m{\u001b[39;00msquare\u001b[38;5;132;01m}\u001b[39;00m\u001b[38;5;124m!\u001b[39m\u001b[38;5;124m'\u001b[39m)\n",
      "\u001b[0;31mValueError\u001b[0m: invalid literal for int() with base 10: 'hahaha'"
     ]
    }
   ],
   "source": [
    "number=input(\"Give me a number and I will calculate its square.\")\n",
    "square=int(number)**2              # Convert English to number\n",
    "print(f'The square of {number} is {square}!')"
   ]
  },
  {
   "cell_type": "code",
   "execution_count": 6,
   "id": "63aa7f85",
   "metadata": {},
   "outputs": [
    {
     "name": "stdout",
     "output_type": "stream",
     "text": [
      "Give me a number and I will calculate its square.hahah\n",
      "Oh oh! I cannot square hahah!\n"
     ]
    }
   ],
   "source": [
    "try:\n",
    "    number=input(\"Give me a number and I will calculate its square.\")\n",
    "    square=int(number)**2\n",
    "    print(f'The square of {number} is {square}!')\n",
    "except ValueError:\n",
    "    print(f\"Oh oh! I cannot square {number}!\")"
   ]
  },
  {
   "cell_type": "markdown",
   "id": "fc8e7e2c",
   "metadata": {},
   "source": [
    "## 1.3 A simple suggestion"
   ]
  },
  {
   "cell_type": "code",
   "execution_count": null,
   "id": "03474ecd",
   "metadata": {},
   "outputs": [],
   "source": [
    "# Include print() statements as the probes of your code, so that you have a good sense of what the program is doing."
   ]
  },
  {
   "cell_type": "markdown",
   "id": "cfc4a67a",
   "metadata": {},
   "source": [
    "# 2 Some loose ends"
   ]
  },
  {
   "cell_type": "markdown",
   "id": "36683f57",
   "metadata": {},
   "source": [
    "## 2.1 Positional, keyword and default arguments"
   ]
  },
  {
   "cell_type": "code",
   "execution_count": 9,
   "id": "23c8ce37",
   "metadata": {},
   "outputs": [],
   "source": [
    "# Python allows for several different ways of passing in arguments. \n",
    "# For example, for this function defined:\n",
    "def side_by_side(a, b, c=42):\n",
    "    return f'{a: 2d} |{b: 2d} |{c: 2d} '"
   ]
  },
  {
   "cell_type": "code",
   "execution_count": 10,
   "id": "c99fbb26",
   "metadata": {},
   "outputs": [
    {
     "data": {
      "text/plain": [
       "' 1 | 2 | 3 '"
      ]
     },
     "execution_count": 10,
     "metadata": {},
     "output_type": "execute_result"
    }
   ],
   "source": [
    "# Positional\n",
    "side_by_side(1, 2, 3)"
   ]
  },
  {
   "cell_type": "code",
   "execution_count": 11,
   "id": "b0575e6f",
   "metadata": {},
   "outputs": [
    {
     "data": {
      "text/plain": [
       "' 2 | 1 | 3 '"
      ]
     },
     "execution_count": 11,
     "metadata": {},
     "output_type": "execute_result"
    }
   ],
   "source": [
    "# Keywords\n",
    "side_by_side(c=3, b=1, a=2)"
   ]
  },
  {
   "cell_type": "code",
   "execution_count": 12,
   "id": "61d3a15c",
   "metadata": {},
   "outputs": [
    {
     "data": {
      "text/plain": [
       "' 1 | 2 | 42 '"
      ]
     },
     "execution_count": 12,
     "metadata": {},
     "output_type": "execute_result"
    }
   ],
   "source": [
    "# Default\n",
    "side_by_side(1, b=2)"
   ]
  },
  {
   "cell_type": "code",
   "execution_count": null,
   "id": "3d2c931b",
   "metadata": {},
   "outputs": [],
   "source": [
    "# For combinations of these three methods, some works while others don't. \n",
    "# Specifically, positional arguments cannot follow keyword arguments. \n",
    "\n",
    "side_by_side(1, 2)           # Two positional, 1 default\n",
    "## ' 1| 2| 42'\n",
    "side_by_side(1, 2, 3)        # Three positional\n",
    "## ' 1| 2| 3'\n",
    "side_by_side(a=1, b=2)       # Two keyword, 1 default\n",
    "## ' 1| 2| 42'\n",
    "side_by_side(c=3, b=1, a=2)  # Three keyword\n",
    "## ' 2| 1| 3'\n",
    "side_by_side(1, c=3, b=2)    # One positional, 2 keyword\n",
    "## ' 1| 2| 3'\n",
    "side_by_side(1, b=2)         # One positional, 1 keyword, 1 default\n",
    "## ' 1| 2| 42'\n",
    "\n",
    "# Keywords cannot be followed \n",
    "# by positional arguments\n",
    "side_by_side(a=2, 1)      # Won't work.                          "
   ]
  },
  {
   "cell_type": "markdown",
   "id": "7569ba3d",
   "metadata": {},
   "source": [
    "## 2.2 Docstrings"
   ]
  },
  {
   "cell_type": "code",
   "execution_count": null,
   "id": "92f9bc47",
   "metadata": {},
   "outputs": [],
   "source": [
    "# Basically, docstrings are the texts that will show up when you try to call help() on a self-defined function. "
   ]
  },
  {
   "cell_type": "code",
   "execution_count": 14,
   "id": "730974bb",
   "metadata": {},
   "outputs": [],
   "source": [
    "def side_by_side(a, b, c=42):\n",
    "    '''\n",
    "    A test function to demonstrate how \n",
    "    positional, keyword and default arguments \n",
    "    work.\n",
    "    '''\n",
    "    return f'{a: 2d} |{b: 2d}| {c: 2d} '"
   ]
  },
  {
   "cell_type": "code",
   "execution_count": 15,
   "id": "79f0f649",
   "metadata": {},
   "outputs": [
    {
     "name": "stdout",
     "output_type": "stream",
     "text": [
      "Help on function side_by_side in module __main__:\n",
      "\n",
      "side_by_side(a, b, c=42)\n",
      "    A test function to demonstrate how \n",
      "    positional, keyword and default arguments \n",
      "    work.\n",
      "\n"
     ]
    }
   ],
   "source": [
    "help(side_by_side)"
   ]
  },
  {
   "cell_type": "markdown",
   "id": "2c5c9160",
   "metadata": {},
   "source": [
    "## 2.3 Function are first-class citizens"
   ]
  },
  {
   "cell_type": "code",
   "execution_count": null,
   "id": "557bc873",
   "metadata": {},
   "outputs": [],
   "source": [
    "# Functions can be passed into other functions as input arguments. \n",
    "# When function is passed in as argument, no need to add (), only the function name suffices."
   ]
  },
  {
   "cell_type": "code",
   "execution_count": 17,
   "id": "29bf8627",
   "metadata": {},
   "outputs": [
    {
     "data": {
      "text/plain": [
       "-1.0"
      ]
     },
     "execution_count": 17,
     "metadata": {},
     "output_type": "execute_result"
    }
   ],
   "source": [
    "def my_function(angle, trig_function):    # tri_function is a function passed in as argument.\n",
    "        return trig_function(angle)     # The usual () following a function is actually moved to here!\n",
    "\n",
    "# Let's use the function\n",
    "my_function(np.pi/2, np.sin)        # Notice how np.sin is not written as np.sin()\n",
    "## 1.0\n",
    "my_function(np.pi/2, np.cos)        \n",
    "## 6.123233995736766e-17\n",
    "my_function(np.pi/2, lambda x: np.cos(2*x))  \n",
    "## -1.0"
   ]
  },
  {
   "cell_type": "markdown",
   "id": "33f23c39",
   "metadata": {},
   "source": [
    "## 2.4 More about unpacking"
   ]
  },
  {
   "cell_type": "code",
   "execution_count": null,
   "id": "b044f184",
   "metadata": {},
   "outputs": [],
   "source": [
    "# When the number of variables is the same as the number of elements in an iterable, we can do the usual unpacking."
   ]
  },
  {
   "cell_type": "code",
   "execution_count": 18,
   "id": "098fbaca",
   "metadata": {},
   "outputs": [
    {
     "data": {
      "text/plain": [
       "(1, 2, 3)"
      ]
     },
     "execution_count": 18,
     "metadata": {},
     "output_type": "execute_result"
    }
   ],
   "source": [
    "x, y, z = [1, 2, 3]\n",
    "x, y, z"
   ]
  },
  {
   "cell_type": "code",
   "execution_count": 19,
   "id": "04d17df6",
   "metadata": {},
   "outputs": [
    {
     "data": {
      "text/plain": [
       "(1, 2, 3)"
      ]
     },
     "execution_count": 19,
     "metadata": {},
     "output_type": "execute_result"
    }
   ],
   "source": [
    "x, y, z = np.array([1, 2, 3])\n",
    "x, y, z"
   ]
  },
  {
   "cell_type": "code",
   "execution_count": null,
   "id": "700a6cb8",
   "metadata": {},
   "outputs": [],
   "source": [
    "# However, if the numbers don't match, an error will be raised. "
   ]
  },
  {
   "cell_type": "code",
   "execution_count": 20,
   "id": "d522a7c7",
   "metadata": {},
   "outputs": [
    {
     "ename": "ValueError",
     "evalue": "too many values to unpack (expected 3)",
     "output_type": "error",
     "traceback": [
      "\u001b[0;31m---------------------------------------------------------------------------\u001b[0m",
      "\u001b[0;31mValueError\u001b[0m                                Traceback (most recent call last)",
      "Cell \u001b[0;32mIn[20], line 1\u001b[0m\n\u001b[0;32m----> 1\u001b[0m x, y, z \u001b[38;5;241m=\u001b[39m np\u001b[38;5;241m.\u001b[39marray([\u001b[38;5;241m1\u001b[39m, \u001b[38;5;241m2\u001b[39m, \u001b[38;5;241m3\u001b[39m, \u001b[38;5;241m4\u001b[39m, \u001b[38;5;241m5\u001b[39m])\n\u001b[1;32m      2\u001b[0m x, y, z\n",
      "\u001b[0;31mValueError\u001b[0m: too many values to unpack (expected 3)"
     ]
    }
   ],
   "source": [
    "x, y, z = np.array([1, 2, 3, 4, 5])\n",
    "x, y, z"
   ]
  },
  {
   "cell_type": "code",
   "execution_count": null,
   "id": "eff5d51c",
   "metadata": {},
   "outputs": [],
   "source": [
    "# Sometimes, we only care about a few specific element in an iterable (for example, the first and last element). \n",
    "# In that case, we can do the following:"
   ]
  },
  {
   "cell_type": "code",
   "execution_count": 21,
   "id": "a8107ba8",
   "metadata": {},
   "outputs": [
    {
     "data": {
      "text/plain": [
       "(1, [2, 3, 4], 5)"
      ]
     },
     "execution_count": 21,
     "metadata": {},
     "output_type": "execute_result"
    }
   ],
   "source": [
    "x, *y, z = np.array([1, 2, 3, 4, 5])     # '*' basically means everything that's left.\n",
    "x, y, z    # Notice that we don't have a '*' in front of y when we are trying to print the outputs out."
   ]
  },
  {
   "cell_type": "code",
   "execution_count": null,
   "id": "0330b71b",
   "metadata": {},
   "outputs": [],
   "source": [
    "# Of course, we don't have to use y (cuz we're not interested in what's left). We are only interested in x and z.\n",
    "# We can use anything in place of y (and change the name of z to y to make it look better)."
   ]
  },
  {
   "cell_type": "code",
   "execution_count": 22,
   "id": "8f1a5eb1",
   "metadata": {},
   "outputs": [
    {
     "data": {
      "text/plain": [
       "(1, 5)"
      ]
     },
     "execution_count": 22,
     "metadata": {},
     "output_type": "execute_result"
    }
   ],
   "source": [
    "x, *_, y = [1, 2, 3, 4, 5]\n",
    "x, y"
   ]
  },
  {
   "cell_type": "code",
   "execution_count": null,
   "id": "b66b22c7",
   "metadata": {},
   "outputs": [],
   "source": [
    "# We can also do this:"
   ]
  },
  {
   "cell_type": "code",
   "execution_count": 23,
   "id": "3a5ed91a",
   "metadata": {},
   "outputs": [
    {
     "data": {
      "text/plain": [
       "(1, 2, [3, 4, 5])"
      ]
     },
     "execution_count": 23,
     "metadata": {},
     "output_type": "execute_result"
    }
   ],
   "source": [
    "x, y, *z = [1, 2, 3, 4, 5]\n",
    "x, y, z"
   ]
  },
  {
   "cell_type": "code",
   "execution_count": 24,
   "id": "1a713143",
   "metadata": {},
   "outputs": [
    {
     "data": {
      "text/plain": [
       "(1, 2, 3, [4, 5])"
      ]
     },
     "execution_count": 24,
     "metadata": {},
     "output_type": "execute_result"
    }
   ],
   "source": [
    "x, y, z, *w = [1, 2, 3, 4, 5]\n",
    "x, y, z, w"
   ]
  },
  {
   "cell_type": "code",
   "execution_count": 26,
   "id": "c2c1f433",
   "metadata": {},
   "outputs": [
    {
     "data": {
      "text/plain": [
       "(1, 2, 3, 4, [5])"
      ]
     },
     "execution_count": 26,
     "metadata": {},
     "output_type": "execute_result"
    }
   ],
   "source": [
    "x, y, z, w, *u = [1, 2, 3, 4, 5]   # Notice that even when the numbers match, adding a '*' makes the corresponding \\\n",
    "                                   #      element a list, not an int or str (in this case, not an int).\n",
    "x, y, z, w, u"
   ]
  },
  {
   "cell_type": "code",
   "execution_count": 27,
   "id": "5c609603",
   "metadata": {},
   "outputs": [
    {
     "data": {
      "text/plain": [
       "(1, 2, 3, 4, 5, [6])"
      ]
     },
     "execution_count": 27,
     "metadata": {},
     "output_type": "execute_result"
    }
   ],
   "source": [
    "x, y, z, w, u, *v = [1, 2, 3, 4, 5, 6]\n",
    "x, y, z, w, u, v"
   ]
  }
 ],
 "metadata": {
  "kernelspec": {
   "display_name": "Python 3 (ipykernel)",
   "language": "python",
   "name": "python3"
  },
  "language_info": {
   "codemirror_mode": {
    "name": "ipython",
    "version": 3
   },
   "file_extension": ".py",
   "mimetype": "text/x-python",
   "name": "python",
   "nbconvert_exporter": "python",
   "pygments_lexer": "ipython3",
   "version": "3.11.5"
  },
  "toc": {
   "base_numbering": 1,
   "nav_menu": {},
   "number_sections": true,
   "sideBar": true,
   "skip_h1_title": false,
   "title_cell": "Table of Contents",
   "title_sidebar": "Contents",
   "toc_cell": false,
   "toc_position": {},
   "toc_section_display": true,
   "toc_window_display": false
  },
  "vscode": {
   "interpreter": {
    "hash": "31f2aee4e71d21fbe5cf8b01ff0e069b9275f58929596ceb00d14d90e3e16cd6"
   }
  }
 },
 "nbformat": 4,
 "nbformat_minor": 5
}
