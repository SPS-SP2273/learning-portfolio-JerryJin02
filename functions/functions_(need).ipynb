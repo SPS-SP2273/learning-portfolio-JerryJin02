{
 "cells": [
  {
   "cell_type": "markdown",
   "id": "123456",
   "metadata": {},
   "source": [
    "<div style=\"text-align:left;font-size:2em\"><span style=\"font-weight:bolder;font-size:1.25em\">SP2273 | Learning Portfolio</span><br><br><span style=\"font-weight:bold;color:darkred\">Functions (Need)</span></div>"
   ]
  },
  {
   "cell_type": "markdown",
   "id": "7bfec4ad",
   "metadata": {},
   "source": [
    "# What to expect in this chapter"
   ]
  },
  {
   "cell_type": "code",
   "execution_count": null,
   "id": "b860a638",
   "metadata": {},
   "outputs": [],
   "source": [
    "# Defining new functions."
   ]
  },
  {
   "cell_type": "code",
   "execution_count": 7,
   "id": "68d4be01",
   "metadata": {},
   "outputs": [],
   "source": [
    "import numpy as np"
   ]
  },
  {
   "cell_type": "markdown",
   "id": "8be78689",
   "metadata": {},
   "source": [
    "# 1 User-defined functions"
   ]
  },
  {
   "cell_type": "markdown",
   "id": "37db0a64",
   "metadata": {},
   "source": [
    "## 1.1 Named Functions"
   ]
  },
  {
   "cell_type": "code",
   "execution_count": null,
   "id": "00467882",
   "metadata": {},
   "outputs": [],
   "source": [
    "# We use the keyword 'def' to define new functions (quite intuitive, right?)."
   ]
  },
  {
   "cell_type": "markdown",
   "id": "bff0b3bf",
   "metadata": {},
   "source": [
    "### Named functions that return"
   ]
  },
  {
   "cell_type": "code",
   "execution_count": 1,
   "id": "91d7643a",
   "metadata": {},
   "outputs": [],
   "source": [
    "def greeting(name):\n",
    "    if name == 'Batman':\n",
    "        return 'Hello Batman! So, nice to meet you!'\n",
    "    else:\n",
    "        return f'Hello {name}!'"
   ]
  },
  {
   "cell_type": "code",
   "execution_count": null,
   "id": "b913fea5",
   "metadata": {},
   "outputs": [],
   "source": [
    "# Here, 'name' is called an argument of the function.\n",
    "# To call the function, we use"
   ]
  },
  {
   "cell_type": "code",
   "execution_count": 2,
   "id": "58dfcf82",
   "metadata": {},
   "outputs": [
    {
     "data": {
      "text/plain": [
       "'Hello Super Man!'"
      ]
     },
     "execution_count": 2,
     "metadata": {},
     "output_type": "execute_result"
    }
   ],
   "source": [
    "greeting(\"Super Man\")"
   ]
  },
  {
   "cell_type": "code",
   "execution_count": null,
   "id": "2f5479e0",
   "metadata": {},
   "outputs": [],
   "source": [
    "# To avoid ambiguity, we can specify the argument:"
   ]
  },
  {
   "cell_type": "code",
   "execution_count": 3,
   "id": "9fba071c",
   "metadata": {},
   "outputs": [
    {
     "data": {
      "text/plain": [
       "'Hello Super Man!'"
      ]
     },
     "execution_count": 3,
     "metadata": {},
     "output_type": "execute_result"
    }
   ],
   "source": [
    "greeting(name=\"Super Man\")"
   ]
  },
  {
   "cell_type": "code",
   "execution_count": null,
   "id": "2547beed",
   "metadata": {},
   "outputs": [],
   "source": [
    "# The key difference between 'return' and 'print()' is that 'return' is a assignment process (more on this later). \n",
    "# The returned value of a function can be assigned to a variable. \n",
    "# For example:"
   ]
  },
  {
   "cell_type": "code",
   "execution_count": 4,
   "id": "8b16109a",
   "metadata": {},
   "outputs": [
    {
     "name": "stdout",
     "output_type": "stream",
     "text": [
      "Hello Super Man!\n"
     ]
    }
   ],
   "source": [
    "greet = greeting(name='Super Man')\n",
    "print(greet)"
   ]
  },
  {
   "cell_type": "code",
   "execution_count": null,
   "id": "97792695",
   "metadata": {},
   "outputs": [],
   "source": [
    "# One function can also has more than one return. "
   ]
  },
  {
   "cell_type": "code",
   "execution_count": 5,
   "id": "768d56fb",
   "metadata": {},
   "outputs": [],
   "source": [
    "def basic_stats(numbers):\n",
    "    np_numbers = np.array(numbers)\n",
    "    my_min = np_numbers.min()\n",
    "    my_max = np_numbers.max()\n",
    "    my_mean = np_numbers.mean()\n",
    "    return my_max, my_min, my_mean"
   ]
  },
  {
   "cell_type": "code",
   "execution_count": 8,
   "id": "5e05af10",
   "metadata": {},
   "outputs": [],
   "source": [
    "list_min, list_max, list_mean = basic_stats([1, 2, 3, 4, 5])"
   ]
  },
  {
   "cell_type": "code",
   "execution_count": 9,
   "id": "2da968eb",
   "metadata": {},
   "outputs": [
    {
     "name": "stdout",
     "output_type": "stream",
     "text": [
      "5 1 3.0\n"
     ]
    }
   ],
   "source": [
    "print(list_min, list_max, list_mean)"
   ]
  },
  {
   "cell_type": "markdown",
   "id": "d3303734",
   "metadata": {},
   "source": [
    "### Named functions that don’t return"
   ]
  },
  {
   "cell_type": "code",
   "execution_count": 10,
   "id": "a939c73b",
   "metadata": {},
   "outputs": [],
   "source": [
    "def PRINT(text):  # This is a pointless function, only to demonstrate a none returning function.\n",
    "    print(text)\n",
    "    return None   # If there's no return, Python by default returns 'None'. Hence, this line can in fact be omitted."
   ]
  },
  {
   "cell_type": "code",
   "execution_count": 11,
   "id": "5ad142be",
   "metadata": {},
   "outputs": [
    {
     "name": "stdout",
     "output_type": "stream",
     "text": [
      "Hi\n"
     ]
    }
   ],
   "source": [
    "PRINT('Hi')"
   ]
  },
  {
   "cell_type": "code",
   "execution_count": 32,
   "id": "23d2a5eb",
   "metadata": {},
   "outputs": [],
   "source": [
    "# Let's compare the difference between 'return' and 'print()'. \n",
    "# I want to great a function that muliplies two numbers. \n",
    "# This first function uses 'return'.\n",
    "def multiply1(x,y):\n",
    "    return x*y"
   ]
  },
  {
   "cell_type": "code",
   "execution_count": 33,
   "id": "a7685f8e",
   "metadata": {},
   "outputs": [
    {
     "data": {
      "text/plain": [
       "6"
      ]
     },
     "execution_count": 33,
     "metadata": {},
     "output_type": "execute_result"
    }
   ],
   "source": [
    "# When we run this function, we will get the desired input.\n",
    "multiply1(2,3)"
   ]
  },
  {
   "cell_type": "code",
   "execution_count": 34,
   "id": "1bb3606a",
   "metadata": {},
   "outputs": [],
   "source": [
    "# Now we define a second function using 'print()'.\n",
    "def multiply2(x,y):\n",
    "    print(x*y)    # Remember that when there's no return, Python returns None by default."
   ]
  },
  {
   "cell_type": "code",
   "execution_count": 35,
   "id": "c39f3718",
   "metadata": {},
   "outputs": [
    {
     "name": "stdout",
     "output_type": "stream",
     "text": [
      "6\n"
     ]
    }
   ],
   "source": [
    "# Now when we run this second function, we will get the same result. \n",
    "multiply2(2,3)"
   ]
  },
  {
   "cell_type": "code",
   "execution_count": null,
   "id": "535ef8d0",
   "metadata": {},
   "outputs": [],
   "source": [
    "# The actual difference between the two is the valued RETURNED. A returned value can be assigned to a variable.\n",
    "# Whereas a printed value is only an executed output. "
   ]
  },
  {
   "cell_type": "code",
   "execution_count": 37,
   "id": "593cf668",
   "metadata": {},
   "outputs": [],
   "source": [
    "number1 = multiply1(2,3)   # We can do this, because mutiply(2,3) is effectively the same as the number 6."
   ]
  },
  {
   "cell_type": "code",
   "execution_count": 38,
   "id": "b709bcd2",
   "metadata": {},
   "outputs": [
    {
     "name": "stdout",
     "output_type": "stream",
     "text": [
      "6\n"
     ]
    }
   ],
   "source": [
    "number2 = multiply2(2,3)   # When we tried to do this, 6 is printed because the function is being called. \n",
    "                           # However, the variable 'number2' is not actually 6. "
   ]
  },
  {
   "cell_type": "code",
   "execution_count": 39,
   "id": "d40c1c24",
   "metadata": {},
   "outputs": [
    {
     "name": "stdout",
     "output_type": "stream",
     "text": [
      "6\n"
     ]
    }
   ],
   "source": [
    "print(number1)"
   ]
  },
  {
   "cell_type": "code",
   "execution_count": 40,
   "id": "df36a82a",
   "metadata": {},
   "outputs": [
    {
     "name": "stdout",
     "output_type": "stream",
     "text": [
      "None\n"
     ]
    }
   ],
   "source": [
    "print(number2)    # number2 is actually None (None type). This is because a function call carries the returned \\\n",
    "                  #     value of that function. For the case of multiply2, None is returned instead of 6. "
   ]
  },
  {
   "cell_type": "markdown",
   "id": "4013ce5e",
   "metadata": {},
   "source": [
    "## 1.2 Anonymous functions"
   ]
  },
  {
   "cell_type": "code",
   "execution_count": null,
   "id": "d28f1c3a",
   "metadata": {},
   "outputs": [],
   "source": [
    "# This is called lambda functions. \n",
    "# It takes one input, and it does not need a name."
   ]
  },
  {
   "cell_type": "code",
   "execution_count": 12,
   "id": "1dc1ef76",
   "metadata": {},
   "outputs": [],
   "source": [
    "my_short_function = lambda name: f\"Hello {name}!\""
   ]
  },
  {
   "cell_type": "code",
   "execution_count": 13,
   "id": "d61bc20f",
   "metadata": {},
   "outputs": [
    {
     "data": {
      "text/plain": [
       "'Hello Super Man!'"
      ]
     },
     "execution_count": 13,
     "metadata": {},
     "output_type": "execute_result"
    }
   ],
   "source": [
    "my_short_function(name=\"Super Man\")"
   ]
  },
  {
   "cell_type": "code",
   "execution_count": 25,
   "id": "08d04a6b",
   "metadata": {},
   "outputs": [],
   "source": [
    "f = lambda x: x + 2  # Note that here x is made to be the argument. When assigning a lambda function to a variable \\\n",
    "                     #     no argument is needed (ie. f instead of f(x)).\n",
    "                     # Things after the colon is the returned value. "
   ]
  },
  {
   "cell_type": "code",
   "execution_count": 26,
   "id": "7f70a4fe",
   "metadata": {},
   "outputs": [
    {
     "data": {
      "text/plain": [
       "3"
      ]
     },
     "execution_count": 26,
     "metadata": {},
     "output_type": "execute_result"
    }
   ],
   "source": [
    "f(1)    # When calling, the function is called the same way as normally defined functions. "
   ]
  },
  {
   "cell_type": "code",
   "execution_count": 27,
   "id": "06d5b69c",
   "metadata": {},
   "outputs": [
    {
     "name": "stdout",
     "output_type": "stream",
     "text": [
      "<class 'function'>\n"
     ]
    }
   ],
   "source": [
    "print(type(f))    # See that f is indeed a function (just that when defined, it does not need an argument \\\n",
    "                  #     directly following it)."
   ]
  },
  {
   "cell_type": "code",
   "execution_count": 30,
   "id": "1e28af7b",
   "metadata": {},
   "outputs": [],
   "source": [
    "def g(x):\n",
    "    return x + 2"
   ]
  },
  {
   "cell_type": "code",
   "execution_count": 31,
   "id": "c4a8f082",
   "metadata": {},
   "outputs": [
    {
     "name": "stdout",
     "output_type": "stream",
     "text": [
      "<class 'function'>\n"
     ]
    }
   ],
   "source": [
    "print(type(g))   # Compare to see that g is also a function. "
   ]
  },
  {
   "cell_type": "code",
   "execution_count": 14,
   "id": "3e0087e4",
   "metadata": {},
   "outputs": [],
   "source": [
    "numbers=[[9, 0, -10],\n",
    "         [8, 1, -11],\n",
    "         [7, 2, -12],\n",
    "         [6, 3, -13],\n",
    "         [5, 4, -14],\n",
    "         [4, 5, -15],\n",
    "         [3, 6, -16],\n",
    "         [2, 7, -17],\n",
    "         [1, 8, -18],\n",
    "         [0, 9, -19]]"
   ]
  },
  {
   "cell_type": "code",
   "execution_count": 15,
   "id": "50f310d2",
   "metadata": {},
   "outputs": [
    {
     "data": {
      "text/plain": [
       "[[0, 9, -19],\n",
       " [1, 8, -18],\n",
       " [2, 7, -17],\n",
       " [3, 6, -16],\n",
       " [4, 5, -15],\n",
       " [5, 4, -14],\n",
       " [6, 3, -13],\n",
       " [7, 2, -12],\n",
       " [8, 1, -11],\n",
       " [9, 0, -10]]"
      ]
     },
     "execution_count": 15,
     "metadata": {},
     "output_type": "execute_result"
    }
   ],
   "source": [
    "# Sort by comparing the default key (i.e., the 1st element).\n",
    "sorted(numbers)"
   ]
  },
  {
   "cell_type": "code",
   "execution_count": 16,
   "id": "2d5c669f",
   "metadata": {},
   "outputs": [
    {
     "data": {
      "text/plain": [
       "[[9, 0, -10],\n",
       " [8, 1, -11],\n",
       " [7, 2, -12],\n",
       " [6, 3, -13],\n",
       " [5, 4, -14],\n",
       " [4, 5, -15],\n",
       " [3, 6, -16],\n",
       " [2, 7, -17],\n",
       " [1, 8, -18],\n",
       " [0, 9, -19]]"
      ]
     },
     "execution_count": 16,
     "metadata": {},
     "output_type": "execute_result"
    }
   ],
   "source": [
    "# Sort by comparing a custom key that uses the 2nd element (index=1).\n",
    "sorted(numbers, key=lambda x: x[1])  # To aid understanding, the argument 'key' takes in a function according to \\\n",
    "                                     #     which the list will be sorted."
   ]
  },
  {
   "cell_type": "code",
   "execution_count": 17,
   "id": "19292bc5",
   "metadata": {},
   "outputs": [
    {
     "data": {
      "text/plain": [
       "[[0, 9, -19],\n",
       " [1, 8, -18],\n",
       " [2, 7, -17],\n",
       " [3, 6, -16],\n",
       " [4, 5, -15],\n",
       " [5, 4, -14],\n",
       " [6, 3, -13],\n",
       " [7, 2, -12],\n",
       " [8, 1, -11],\n",
       " [9, 0, -10]]"
      ]
     },
     "execution_count": 17,
     "metadata": {},
     "output_type": "execute_result"
    }
   ],
   "source": [
    "# Sort by comparing a custom key that uses the sum of the elements.\n",
    "sorted(numbers, key=lambda x: sum(x))"
   ]
  },
  {
   "cell_type": "markdown",
   "id": "dff0f5f4",
   "metadata": {},
   "source": [
    "## 1.3 Optional arguments"
   ]
  },
  {
   "cell_type": "code",
   "execution_count": 19,
   "id": "52b05e93",
   "metadata": {},
   "outputs": [],
   "source": [
    "def greeting(name='no one'):   # This sets a default value for the functional argument.\n",
    "    if name == 'Batman':\n",
    "        return 'Hello Batman! So, nice to meet you!'\n",
    "    else:\n",
    "        return f'Hello {name}!'"
   ]
  },
  {
   "cell_type": "code",
   "execution_count": 20,
   "id": "cf32ba22",
   "metadata": {},
   "outputs": [
    {
     "data": {
      "text/plain": [
       "'Hello no one!'"
      ]
     },
     "execution_count": 20,
     "metadata": {},
     "output_type": "execute_result"
    }
   ],
   "source": [
    "greeting()   # If no value is passed into the function, the default value is used."
   ]
  },
  {
   "cell_type": "code",
   "execution_count": 22,
   "id": "afd06a9c",
   "metadata": {},
   "outputs": [],
   "source": [
    "?print"
   ]
  },
  {
   "cell_type": "code",
   "execution_count": null,
   "id": "25d974c0",
   "metadata": {},
   "outputs": [],
   "source": [
    "# '?' gives the docstring of a function (as a pop up window)."
   ]
  },
  {
   "cell_type": "code",
   "execution_count": null,
   "id": "938e6ec4",
   "metadata": {},
   "outputs": [],
   "source": [
    "# In the docstring, we see that print() takes in four more optional arguments. "
   ]
  },
  {
   "cell_type": "code",
   "execution_count": 23,
   "id": "025ef54e",
   "metadata": {},
   "outputs": [
    {
     "name": "stdout",
     "output_type": "stream",
     "text": [
      "I am Batman!\n",
      "I---am---Batman!\n"
     ]
    }
   ],
   "source": [
    "# Using default values\n",
    "print('I', 'am', 'Batman!')\n",
    "# Specifying an optional argument\n",
    "print('I', 'am', 'Batman!', sep='---')   # Seems pretty good!"
   ]
  },
  {
   "cell_type": "markdown",
   "id": "77451ee0",
   "metadata": {},
   "source": [
    "## 1.4 The importance of functions?"
   ]
  },
  {
   "cell_type": "markdown",
   "id": "a8224204",
   "metadata": {},
   "source": [
    "### An argument for functions"
   ]
  },
  {
   "cell_type": "code",
   "execution_count": null,
   "id": "bb8246a8",
   "metadata": {},
   "outputs": [],
   "source": [
    "# Functions are excellent at abstracting details, reusing parts of a code, and boosting the overall maintainability\\\n",
    "#     of our code."
   ]
  },
  {
   "cell_type": "markdown",
   "id": "8a211eea",
   "metadata": {},
   "source": [
    "### A word of caution"
   ]
  },
  {
   "cell_type": "code",
   "execution_count": null,
   "id": "1a8bb899",
   "metadata": {},
   "outputs": [],
   "source": [
    "# Don't overuse or abuse functions and its arguments. This would compromise readability of the code and make \\\n",
    "#     debugging more difficult."
   ]
  }
 ],
 "metadata": {
  "kernelspec": {
   "display_name": "Python 3 (ipykernel)",
   "language": "python",
   "name": "python3"
  },
  "language_info": {
   "codemirror_mode": {
    "name": "ipython",
    "version": 3
   },
   "file_extension": ".py",
   "mimetype": "text/x-python",
   "name": "python",
   "nbconvert_exporter": "python",
   "pygments_lexer": "ipython3",
   "version": "3.11.5"
  },
  "toc": {
   "base_numbering": 1,
   "nav_menu": {},
   "number_sections": true,
   "sideBar": true,
   "skip_h1_title": false,
   "title_cell": "Table of Contents",
   "title_sidebar": "Contents",
   "toc_cell": false,
   "toc_position": {},
   "toc_section_display": true,
   "toc_window_display": false
  },
  "vscode": {
   "interpreter": {
    "hash": "31f2aee4e71d21fbe5cf8b01ff0e069b9275f58929596ceb00d14d90e3e16cd6"
   }
  }
 },
 "nbformat": 4,
 "nbformat_minor": 5
}
