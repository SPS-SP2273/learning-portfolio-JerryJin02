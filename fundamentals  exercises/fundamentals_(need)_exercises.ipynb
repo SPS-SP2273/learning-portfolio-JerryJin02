{
 "cells": [
  {
   "cell_type": "markdown",
   "id": "123456",
   "metadata": {},
   "source": [
    "<div style=\"text-align:left;font-size:2em\"><span style=\"font-weight:bolder;font-size:1.25em\">SP2273 | Learning Portfolio</span><br><br><span style=\"font-weight:bold;color:darkred\">Fundamentals (Need) Exercises</span></div>"
   ]
  },
  {
   "cell_type": "markdown",
   "id": "24bd204c",
   "metadata": {},
   "source": [
    "## Exercise 1"
   ]
  },
  {
   "cell_type": "markdown",
   "id": "03422ce2",
   "metadata": {},
   "source": [
    "1. A function is an object that performs a certain well-defined task.\n",
    "2. A function may or may not take in arguments. (Functions take in arguments and execute them as parameters)\n",
    "3. New functions can be defined using the keyword \"def\".\n",
    "4. Python programs are executed in a sequential manner.\n",
    "5. Python is case-sensitive. \n",
    "6. Things after \"#\" are ignored by Python. This is called commenting.\n",
    "7. \"=\" assigns a value to a variable, whereas \"==\" compares two values and returns a Boolean.\n",
    "8. \"if\" and \"else\" can Python keywords that execute different decisions. \n",
    "9. Indentations are automatically followed behind \":\". In other places, improper indentation would disrupt the program.\n",
    "10. \"string\" is a string, whereas string is a variable. \n",
    "11. Functions are followed by (). () also involves in arithmetics. () is also a tuple. [] is a list (or array in numpy), {} is a dictionary. \n",
    "12. Python is superpowerful because of its innumerable packages (or modules). \"import\" is the keyword to import and access different modules.\n",
    "13. \".\" in Python signifies ownership. Things behind \".\" is either a subdirectory, an attribute, or a method that BELONGS to the parent thing in front of \".\".\n",
    "14. *Python is an OOP language, where \"class\" is the relevant keyword. Under each class, instances can be constructed consisting of various attributes and methods. Subclasses can also be established abiding to inheritance and polymorphism.*"
   ]
  },
  {
   "cell_type": "markdown",
   "id": "3d06637c",
   "metadata": {},
   "source": [
    "## Exercise 2"
   ]
  },
  {
   "cell_type": "code",
   "execution_count": 5,
   "id": "a7a23bf4",
   "metadata": {},
   "outputs": [
    {
     "name": "stdout",
     "output_type": "stream",
     "text": [
      "(3, 4, 5)\n"
     ]
    }
   ],
   "source": [
    "import math\n",
    "x, y = 3, 4\n",
    "z = int(math.sqrt(x**2 + y**2))\n",
    "print((x, y, z))"
   ]
  },
  {
   "cell_type": "markdown",
   "id": "4553bfa6",
   "metadata": {},
   "source": [
    "## Exercise 3"
   ]
  },
  {
   "cell_type": "markdown",
   "id": "0434bb1f",
   "metadata": {},
   "source": [
    "| #    |  Term   |    Description |\n",
    "| :--- | :--- | :--- |\n",
    "| 1   |  Function  |   A function is an object that performs an specific task. |\n",
    "| 2   |  Arguments  |   Arguments are \"parameters\" fed into a function when the latter is called. |\n",
    "| 3   |  Comments  |   Explanation for the programmer. (Python will ignore) |\n",
    "| 4   |  Indentations  |   Highlights each code block. |\n",
    "| 5   |  Packages  |   Encapsulated programs that performs a specific collection of tasks. |\n",
    "| 6   |  '.'  |   Signifies ownership. (Function, attribute, method) |\n",
    "| 7   |  ':'  |   Signifies the beginning of a code block. (Function, decision blocks, loops, etc.) |\n",
    "| 8   |  '[]'  |   Empty list. |\n",
    "| 9   |  '[[[]]]'  |   A 3D 1x1x1 list (innermost empty). |\n",
    "| 10   |  '{}'  |   A empty dictionary. |"
   ]
  },
  {
   "cell_type": "markdown",
   "id": "e15a0db0",
   "metadata": {},
   "source": [
    "## Exercise 4"
   ]
  },
  {
   "cell_type": "code",
   "execution_count": 6,
   "id": "99217722",
   "metadata": {},
   "outputs": [
    {
     "data": {
      "text/plain": [
       "2.5"
      ]
     },
     "execution_count": 6,
     "metadata": {},
     "output_type": "execute_result"
    }
   ],
   "source": [
    "5/2           # This is the ordinary divide that will yield the float 2.5"
   ]
  },
  {
   "cell_type": "code",
   "execution_count": 7,
   "id": "921827a6",
   "metadata": {},
   "outputs": [
    {
     "data": {
      "text/plain": [
       "2"
      ]
     },
     "execution_count": 7,
     "metadata": {},
     "output_type": "execute_result"
    }
   ],
   "source": [
    "5//2          # This is the floor division operation, which yields the same value as math.floor(5/2), the largest\n",
    "              # integer smaller than 5/2 (which is the same as truncating the number)"
   ]
  },
  {
   "cell_type": "code",
   "execution_count": 8,
   "id": "153ecc0c",
   "metadata": {},
   "outputs": [
    {
     "data": {
      "text/plain": [
       "1"
      ]
     },
     "execution_count": 8,
     "metadata": {},
     "output_type": "execute_result"
    }
   ],
   "source": [
    "5%2           # This is the remainder operation. It returns the value of the remainder of the target division. "
   ]
  }
 ],
 "metadata": {
  "kernelspec": {
   "display_name": "Python 3 (ipykernel)",
   "language": "python",
   "name": "python3"
  },
  "language_info": {
   "codemirror_mode": {
    "name": "ipython",
    "version": 3
   },
   "file_extension": ".py",
   "mimetype": "text/x-python",
   "name": "python",
   "nbconvert_exporter": "python",
   "pygments_lexer": "ipython3",
   "version": "3.11.5"
  },
  "toc": {
   "base_numbering": 1,
   "nav_menu": {},
   "number_sections": true,
   "sideBar": true,
   "skip_h1_title": false,
   "title_cell": "Table of Contents",
   "title_sidebar": "Contents",
   "toc_cell": false,
   "toc_position": {},
   "toc_section_display": true,
   "toc_window_display": false
  },
  "vscode": {
   "interpreter": {
    "hash": "31f2aee4e71d21fbe5cf8b01ff0e069b9275f58929596ceb00d14d90e3e16cd6"
   }
  }
 },
 "nbformat": 4,
 "nbformat_minor": 5
}
