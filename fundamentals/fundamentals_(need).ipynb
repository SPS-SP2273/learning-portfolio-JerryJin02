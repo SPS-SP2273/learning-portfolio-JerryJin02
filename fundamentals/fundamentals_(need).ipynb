{
 "cells": [
  {
   "cell_type": "markdown",
   "id": "123456",
   "metadata": {},
   "source": [
    "<div style=\"text-align:left;font-size:2em\"><span style=\"font-weight:bolder;font-size:1.25em\">SP2273 | Learning Portfolio</span><br><br><span style=\"font-weight:bold;color:darkred\">Fundamentals (Need)</span></div>"
   ]
  },
  {
   "cell_type": "markdown",
   "id": "dddfbe1f",
   "metadata": {},
   "source": [
    "# What to expect in this chapter"
   ]
  },
  {
   "cell_type": "code",
   "execution_count": null,
   "id": "8b9e2b3c",
   "metadata": {},
   "outputs": [],
   "source": [
    "# This chapter covers the most basic syntaxes and formalities of Python programming (code-wise). "
   ]
  },
  {
   "cell_type": "markdown",
   "id": "91986fe8",
   "metadata": {},
   "source": [
    "# 1 Functions"
   ]
  },
  {
   "cell_type": "code",
   "execution_count": null,
   "id": "1b71f4dd",
   "metadata": {},
   "outputs": [],
   "source": [
    "# Python has a series of built-in function, such as `print()`. \n",
    "# A function in Python is an object that takes in one or more inputs, called 'arguments', and execute a specific \\\n",
    "#     task. \n",
    "# Certain functions also takes no input. For example, `exit()`.\n",
    "# A function always has () following it.\n",
    "# Apart from the built-in functions, users can also define new functions. "
   ]
  },
  {
   "cell_type": "code",
   "execution_count": 1,
   "id": "999454c3",
   "metadata": {},
   "outputs": [
    {
     "name": "stdout",
     "output_type": "stream",
     "text": [
      "Hello World\n"
     ]
    }
   ],
   "source": [
    "print('Hello World')"
   ]
  },
  {
   "cell_type": "markdown",
   "id": "ba0121a8",
   "metadata": {},
   "source": [
    "# 2 Python is interpreted"
   ]
  },
  {
   "cell_type": "code",
   "execution_count": null,
   "id": "8a0a32ba",
   "metadata": {},
   "outputs": [],
   "source": [
    "# Python execute program in a sequential manner."
   ]
  },
  {
   "cell_type": "markdown",
   "id": "5baea7fd",
   "metadata": {},
   "source": [
    "# 3 Python is sensitive."
   ]
  },
  {
   "cell_type": "code",
   "execution_count": null,
   "id": "669c452c",
   "metadata": {},
   "outputs": [],
   "source": [
    "# `Print()` is different from `print()`. "
   ]
  },
  {
   "cell_type": "code",
   "execution_count": 2,
   "id": "42d8db75",
   "metadata": {},
   "outputs": [
    {
     "name": "stdout",
     "output_type": "stream",
     "text": [
      "Hello World\n"
     ]
    }
   ],
   "source": [
    "print('Hello World')"
   ]
  },
  {
   "cell_type": "code",
   "execution_count": 3,
   "id": "b246c3a3",
   "metadata": {},
   "outputs": [
    {
     "ename": "NameError",
     "evalue": "name 'Print' is not defined",
     "output_type": "error",
     "traceback": [
      "\u001b[0;31m---------------------------------------------------------------------------\u001b[0m",
      "\u001b[0;31mNameError\u001b[0m                                 Traceback (most recent call last)",
      "Cell \u001b[0;32mIn[3], line 1\u001b[0m\n\u001b[0;32m----> 1\u001b[0m Print(\u001b[38;5;124m'\u001b[39m\u001b[38;5;124mHello World\u001b[39m\u001b[38;5;124m'\u001b[39m)\n",
      "\u001b[0;31mNameError\u001b[0m: name 'Print' is not defined"
     ]
    }
   ],
   "source": [
    "Print('Hello World')"
   ]
  },
  {
   "cell_type": "code",
   "execution_count": 4,
   "id": "d17da6ce",
   "metadata": {},
   "outputs": [
    {
     "name": "stdout",
     "output_type": "stream",
     "text": [
      "Hello World\n"
     ]
    }
   ],
   "source": [
    "Print = print   # However, a function can be assigned to variable. \n",
    "Print('Hello World')`   # And now, the same function can be executed using the variable. "
   ]
  },
  {
   "cell_type": "markdown",
   "id": "4bc6a308",
   "metadata": {},
   "source": [
    "# 4 Comments"
   ]
  },
  {
   "cell_type": "code",
   "execution_count": null,
   "id": "ead6cfc7",
   "metadata": {},
   "outputs": [],
   "source": [
    "# Comment is a powerful feature in Python. \n",
    "# Its primary purpose is to remind programmers the function of certain lines of codes (especially for long codes).\n",
    "# Commenting can be achieved with hashtag in front of the line of comment. \n",
    "# In terms of execution, Python will automatically ignore everything after hashtags. \n",
    "# We've been using comment all the time!"
   ]
  },
  {
   "cell_type": "code",
   "execution_count": 5,
   "id": "09471c09",
   "metadata": {},
   "outputs": [
    {
     "name": "stdout",
     "output_type": "stream",
     "text": [
      "Hello World\n"
     ]
    }
   ],
   "source": [
    "print('Hello World')\n",
    "#print('Hello World')"
   ]
  },
  {
   "cell_type": "code",
   "execution_count": null,
   "id": "6c88faa3",
   "metadata": {},
   "outputs": [],
   "source": [
    "# Notice that Python only executed the print command once. The second line of code is ignored by Python. "
   ]
  },
  {
   "cell_type": "markdown",
   "id": "3c44adab",
   "metadata": {},
   "source": [
    "# 5 = is not the same as =="
   ]
  },
  {
   "cell_type": "code",
   "execution_count": null,
   "id": "263910fb",
   "metadata": {},
   "outputs": [],
   "source": [
    "# In mathematics, '=' is understood as equality or equivalence. For example, '1=1' means '1 equals 1', which is \\\n",
    "#     clearly a true statement.  \n",
    "# However, in Python, '=' does not quite mean equal. '=' is in fact a assignment process. \n",
    "# For instance, 'x=1' in Python means that the value 1 is assigned to the free variable x. \n",
    "# We can see this through:"
   ]
  },
  {
   "cell_type": "code",
   "execution_count": 6,
   "id": "ee6b0308",
   "metadata": {},
   "outputs": [
    {
     "name": "stdout",
     "output_type": "stream",
     "text": [
      "1\n"
     ]
    }
   ],
   "source": [
    "x=1\n",
    "print(x)"
   ]
  },
  {
   "cell_type": "code",
   "execution_count": null,
   "id": "dd9c3e53",
   "metadata": {},
   "outputs": [],
   "source": [
    "# Equality in Python is instead conveyed by '=='. \n",
    "# '1==1' is interpreted by Python as '1 equals 1', in which case Python will output a Boolean value (i.e., True). \n",
    "# On the other hand, '1==2' will yield the output 'False'.\n",
    "# Note that Python treats '==' as a statement and assigns a Boolean value to it. Hence, the returned value to such \\\n",
    "#     a statement will either be 'True' or 'False'.\n",
    "# For example:"
   ]
  },
  {
   "cell_type": "code",
   "execution_count": 7,
   "id": "e36c8a90",
   "metadata": {},
   "outputs": [
    {
     "data": {
      "text/plain": [
       "True"
      ]
     },
     "execution_count": 7,
     "metadata": {},
     "output_type": "execute_result"
    }
   ],
   "source": [
    "1==1"
   ]
  },
  {
   "cell_type": "code",
   "execution_count": 8,
   "id": "234802f8",
   "metadata": {},
   "outputs": [
    {
     "data": {
      "text/plain": [
       "False"
      ]
     },
     "execution_count": 8,
     "metadata": {},
     "output_type": "execute_result"
    }
   ],
   "source": [
    "1==2"
   ]
  },
  {
   "cell_type": "markdown",
   "id": "a353b27c",
   "metadata": {},
   "source": [
    "# 6 Use if to make decisions"
   ]
  },
  {
   "cell_type": "code",
   "execution_count": null,
   "id": "ed807899",
   "metadata": {},
   "outputs": [],
   "source": [
    "# To execute a program based on different conditions, Python uses a 'if-else' block. \n",
    "# The basic format for a 'if-else' block is as such:\n",
    "#\n",
    "# if [condition 1]:\n",
    "#     code 1\n",
    "# elif [condition 2]:\n",
    "#     code 2\n",
    "# else:\n",
    "#     code 3\n",
    "# \n",
    "# There are couple of things that are worthy noticing. First, Python executes code sequentially. Therefore, if \\\n",
    "#     condition 1 and condition 2 are both met, code 1 will be executed and code 2 will not. \n",
    "# Therefore, only one block of codes in code 1, code 2, and code 3 will be ran in a single execution. In other \\\n",
    "#     words, they are mutually exclusive. \n",
    "# The 'elif' block is optional. One can use it to check for more conditions. The number of 'elif' branches can \\\n",
    "#     also be added as desired. (However, overuse of elif block often leads to inefficient programming.)\n",
    "# The 'else' block handles all other scenarios when all conditions following 'if' and 'elif' are not met. (Given) \\\n",
    "#     that no exception is raised.\n",
    "# If in a loop, the 'else' block can sometimes be omitted. \n",
    "# Code 1, code 2, code 3 must be indented. We will talk about indentation in more detail later. "
   ]
  },
  {
   "cell_type": "code",
   "execution_count": 9,
   "id": "6b2d172c",
   "metadata": {},
   "outputs": [
    {
     "name": "stdout",
     "output_type": "stream",
     "text": [
      "x is positive\n"
     ]
    }
   ],
   "source": [
    "# For example:\n",
    "\n",
    "x=1\n",
    "\n",
    "if x<0:\n",
    "    print('x is negative')\n",
    "elif x==0:\n",
    "    print('x is 0')\n",
    "else:\n",
    "    print('x is positive') # this line of code is executed because none of the conditions above is met."
   ]
  },
  {
   "cell_type": "markdown",
   "id": "e75a87a3",
   "metadata": {},
   "source": [
    "# 7 Indentations (spaces) are sooo IMPORTANT!"
   ]
  },
  {
   "cell_type": "code",
   "execution_count": null,
   "id": "08496eb4",
   "metadata": {},
   "outputs": [],
   "source": [
    "# Indentation is a key feature that made Python programming so much easier compare to other programming languages. \n",
    "# Indentation marks different levels of execution. \n",
    "# Programming languages such C++ use {} to mark different level of execution. Python uses indentation instead to \\\n",
    "#     allow for much easier debugging. \n",
    "# An indentation is expected after every ':'.\n",
    "# When an indentation is not expected, Python will not understand an indented line and will raise an \\\n",
    "#     IndentationError to interrupt the kernel. \n",
    "# Similarly, when indentation is expected, Python will also raise an IndentationError if the target line is not \\\n",
    "#     indented. \n",
    "# Jupyter Notebook automatically indents whenever appropriate. If not, indentation can also easily be achieved \\\n",
    "#     via a single 'tab'. "
   ]
  },
  {
   "cell_type": "code",
   "execution_count": 10,
   "id": "e8beeefc",
   "metadata": {},
   "outputs": [
    {
     "ename": "IndentationError",
     "evalue": "unexpected indent (1126657800.py, line 2)",
     "output_type": "error",
     "traceback": [
      "\u001b[0;36m  Cell \u001b[0;32mIn[10], line 2\u001b[0;36m\u001b[0m\n\u001b[0;31m    print('Hellow World')\u001b[0m\n\u001b[0m    ^\u001b[0m\n\u001b[0;31mIndentationError\u001b[0m\u001b[0;31m:\u001b[0m unexpected indent\n"
     ]
    }
   ],
   "source": [
    "print('Hellow World')\n",
    "  print('Hellow World')"
   ]
  },
  {
   "cell_type": "code",
   "execution_count": 11,
   "id": "b4a53042",
   "metadata": {},
   "outputs": [
    {
     "ename": "IndentationError",
     "evalue": "expected an indented block after 'if' statement on line 2 (1938753384.py, line 3)",
     "output_type": "error",
     "traceback": [
      "\u001b[0;36m  Cell \u001b[0;32mIn[11], line 3\u001b[0;36m\u001b[0m\n\u001b[0;31m    print(x)\u001b[0m\n\u001b[0m    ^\u001b[0m\n\u001b[0;31mIndentationError\u001b[0m\u001b[0;31m:\u001b[0m expected an indented block after 'if' statement on line 2\n"
     ]
    }
   ],
   "source": [
    "x=0\n",
    "if x>0:\n",
    "print(x)"
   ]
  },
  {
   "cell_type": "markdown",
   "id": "d10f44aa",
   "metadata": {},
   "source": [
    "# 8 ‘age’ is English, age is a variable."
   ]
  },
  {
   "cell_type": "code",
   "execution_count": null,
   "id": "71a9991f",
   "metadata": {},
   "outputs": [],
   "source": [
    "# 'age' (text in '') in Python is a specific data type called 'str'. \n",
    "# For example, when printed, 'age' will be printed directly as how it is. \n",
    "# age (without the ''), on the other hand, is interpreted in Python as a variable. \n",
    "# A variable means that it can be assigned with a value using '='. \n",
    "# For example:"
   ]
  },
  {
   "cell_type": "code",
   "execution_count": 14,
   "id": "fba323a2",
   "metadata": {},
   "outputs": [
    {
     "name": "stdout",
     "output_type": "stream",
     "text": [
      "68\n"
     ]
    }
   ],
   "source": [
    "age = 68 # Now this line assigns the numeric value 68 to the variable with the name `age`.\n",
    "print(age) # This would have the same effect as print(68). (Although not quite. The nuance here is that print(68) \\\n",
    "           # actually print out the string '68', whereas print(age) prints 68 as a integer.)"
   ]
  },
  {
   "cell_type": "code",
   "execution_count": null,
   "id": "2b8dfd22",
   "metadata": {},
   "outputs": [],
   "source": [
    "# If a one attempts to assign a value to a 'str' instead, a SyntaxError will be raised.\n",
    "# For example:"
   ]
  },
  {
   "cell_type": "code",
   "execution_count": 15,
   "id": "271010e1",
   "metadata": {},
   "outputs": [
    {
     "ename": "SyntaxError",
     "evalue": "cannot assign to literal here. Maybe you meant '==' instead of '='? (3993318929.py, line 1)",
     "output_type": "error",
     "traceback": [
      "\u001b[0;36m  Cell \u001b[0;32mIn[15], line 1\u001b[0;36m\u001b[0m\n\u001b[0;31m    'age' = 68\u001b[0m\n\u001b[0m    ^\u001b[0m\n\u001b[0;31mSyntaxError\u001b[0m\u001b[0;31m:\u001b[0m cannot assign to literal here. Maybe you meant '==' instead of '='?\n"
     ]
    }
   ],
   "source": [
    "'age' = 68"
   ]
  },
  {
   "cell_type": "markdown",
   "id": "eecd1948",
   "metadata": {},
   "source": [
    "# 9 Brackets"
   ]
  },
  {
   "cell_type": "code",
   "execution_count": null,
   "id": "d79b9806",
   "metadata": {},
   "outputs": [],
   "source": [
    "# Python treats the three different types of brackets differently. \n",
    "# () are used when calling a function, performing mathematical operations, or working with a tuple. \n",
    "# [] are used when working with lists or arrays. \n",
    "# {} are used when working with dictionaries.\n",
    "# For example:"
   ]
  },
  {
   "cell_type": "code",
   "execution_count": 16,
   "id": "984431a1",
   "metadata": {},
   "outputs": [
    {
     "name": "stdout",
     "output_type": "stream",
     "text": [
      "Hello!\n"
     ]
    }
   ],
   "source": [
    "print('Hello!')             # In functions"
   ]
  },
  {
   "cell_type": "code",
   "execution_count": 17,
   "id": "cc7d59d4",
   "metadata": {},
   "outputs": [
    {
     "data": {
      "text/plain": [
       "15"
      ]
     },
     "execution_count": 17,
     "metadata": {},
     "output_type": "execute_result"
    }
   ],
   "source": [
    "(1 + 2) * 5                 # For math"
   ]
  },
  {
   "cell_type": "code",
   "execution_count": 18,
   "id": "7f0891b6",
   "metadata": {},
   "outputs": [
    {
     "name": "stdout",
     "output_type": "stream",
     "text": [
      "<class 'tuple'>\n"
     ]
    }
   ],
   "source": [
    "py_tuple = (1, 2, 3, 4, 5)\n",
    "print(type(py_tuple))"
   ]
  },
  {
   "cell_type": "code",
   "execution_count": 19,
   "id": "83727353",
   "metadata": {},
   "outputs": [
    {
     "name": "stdout",
     "output_type": "stream",
     "text": [
      "<class 'list'>\n"
     ]
    }
   ],
   "source": [
    "py_list = [1, 2, 3, 4, 5]   # A 1D list\n",
    "\n",
    "py_list_2 = [               # A 2D list\n",
    "                [1, \"A\"],      \n",
    "                [2, \"B\"],\n",
    "                [3, \"C\"],\n",
    "                [4, \"D\"],\n",
    "                [5, \"E\"]\n",
    "            ]\n",
    "\n",
    "print(type(py_list))"
   ]
  },
  {
   "cell_type": "code",
   "execution_count": 20,
   "id": "bf411373",
   "metadata": {},
   "outputs": [
    {
     "name": "stdout",
     "output_type": "stream",
     "text": [
      "<class 'dict'>\n"
     ]
    }
   ],
   "source": [
    "personal_info = {\n",
    "    'Names': 'Batman',\n",
    "    'Real Name': 'Bruce Wayne',\n",
    "    'Age': 55,\n",
    "    'Affiliation': 'Justice League',\n",
    "    'Universe': 'DC'\n",
    "}\n",
    "\n",
    "print(type(personal_info))"
   ]
  },
  {
   "cell_type": "code",
   "execution_count": null,
   "id": "e3170e71",
   "metadata": {},
   "outputs": [],
   "source": [
    "# A dictionary is a data type that storages data in 'key-value' pairs. \n",
    "# Lists, arrays, tuples, and dictionaries are all different types of data storages. More on them in the upcoming \\\n",
    "#     chapter. "
   ]
  },
  {
   "cell_type": "markdown",
   "id": "ee8e755d",
   "metadata": {},
   "source": [
    "# 10 Giving Python superpowers with Packages"
   ]
  },
  {
   "cell_type": "markdown",
   "id": "62a2be8f",
   "metadata": {},
   "source": [
    "## 10.1 Some Context"
   ]
  },
  {
   "cell_type": "code",
   "execution_count": null,
   "id": "518eb6d2",
   "metadata": {},
   "outputs": [],
   "source": [
    "# By default, Python has some basic functions (built-in) that can perform a collection of tasks, but not all tasks.\n",
    "# There are many other collections of functions incapsulated inside individual entities, called packages, that \\\n",
    "#      can be imported by Python to perform a much wider range of tasks. \n",
    "# One such example is finding the square root of an number. "
   ]
  },
  {
   "cell_type": "code",
   "execution_count": 21,
   "id": "faf190ce",
   "metadata": {},
   "outputs": [
    {
     "ename": "NameError",
     "evalue": "name 'sqrt' is not defined",
     "output_type": "error",
     "traceback": [
      "\u001b[0;31m---------------------------------------------------------------------------\u001b[0m",
      "\u001b[0;31mNameError\u001b[0m                                 Traceback (most recent call last)",
      "Cell \u001b[0;32mIn[21], line 2\u001b[0m\n\u001b[1;32m      1\u001b[0m x\u001b[38;5;241m=\u001b[39m\u001b[38;5;241m10\u001b[39m\n\u001b[0;32m----> 2\u001b[0m \u001b[38;5;28mprint\u001b[39m(sqrt(\u001b[38;5;241m10\u001b[39m))\n",
      "\u001b[0;31mNameError\u001b[0m: name 'sqrt' is not defined"
     ]
    }
   ],
   "source": [
    "x=10\n",
    "print(sqrt(10))"
   ]
  },
  {
   "cell_type": "markdown",
   "id": "a1e966a4",
   "metadata": {},
   "source": [
    "## 10.2 Importing the math package"
   ]
  },
  {
   "cell_type": "code",
   "execution_count": null,
   "id": "5d325390",
   "metadata": {},
   "outputs": [],
   "source": [
    "# To solve such problem, one package called 'math' is used. \n",
    "# 'Math' include a series of functions designed to do mathematical operations. \n",
    "# math.sqrt() is one of them that is used to find the square root of any number.\n",
    "# Before use, a package must be first imported into Python using the 'import' command."
   ]
  },
  {
   "cell_type": "code",
   "execution_count": 22,
   "id": "a8725981",
   "metadata": {},
   "outputs": [
    {
     "name": "stdout",
     "output_type": "stream",
     "text": [
      "3.1622776601683795\n"
     ]
    }
   ],
   "source": [
    "import math\n",
    "\n",
    "x=10\n",
    "print(math.sqrt(10))"
   ]
  },
  {
   "cell_type": "code",
   "execution_count": null,
   "id": "e59eeacf",
   "metadata": {},
   "outputs": [],
   "source": [
    "# Now we have our output. \n",
    "# Notice that before calling the sqrt() function, we need to specify its package directory (the path it came from).\n",
    "# In this case, sqrt() came from the 'math' package. Hence, we call it by math.sqrt(). \n",
    "# We can also access all functions and subdirectories inside a package by running the following line of code:"
   ]
  },
  {
   "cell_type": "code",
   "execution_count": 23,
   "id": "9a3dac54",
   "metadata": {},
   "outputs": [
    {
     "name": "stdout",
     "output_type": "stream",
     "text": [
      "['__doc__', '__file__', '__loader__', '__name__', '__package__', '__spec__', 'acos', 'acosh', 'asin', 'asinh', 'atan', 'atan2', 'atanh', 'cbrt', 'ceil', 'comb', 'copysign', 'cos', 'cosh', 'degrees', 'dist', 'e', 'erf', 'erfc', 'exp', 'exp2', 'expm1', 'fabs', 'factorial', 'floor', 'fmod', 'frexp', 'fsum', 'gamma', 'gcd', 'hypot', 'inf', 'isclose', 'isfinite', 'isinf', 'isnan', 'isqrt', 'lcm', 'ldexp', 'lgamma', 'log', 'log10', 'log1p', 'log2', 'modf', 'nan', 'nextafter', 'perm', 'pi', 'pow', 'prod', 'radians', 'remainder', 'sin', 'sinh', 'sqrt', 'tan', 'tanh', 'tau', 'trunc', 'ulp']\n"
     ]
    }
   ],
   "source": [
    "print(dir(math))"
   ]
  },
  {
   "cell_type": "code",
   "execution_count": null,
   "id": "2d7d936d",
   "metadata": {},
   "outputs": [],
   "source": [
    "# If we want to use sqrt() directly in place of math.sqrt(), we can do the following:"
   ]
  },
  {
   "cell_type": "code",
   "execution_count": 25,
   "id": "c87ad43e",
   "metadata": {},
   "outputs": [
    {
     "name": "stdout",
     "output_type": "stream",
     "text": [
      "3.1622776601683795\n"
     ]
    }
   ],
   "source": [
    "from math import sqrt # This line import only the sqrt() function in the 'math' package. The downside however is \\\n",
    "                      #    that when using other functions in the same package, they need to be imported separately.\n",
    "print(sqrt(x))"
   ]
  },
  {
   "cell_type": "code",
   "execution_count": null,
   "id": "2b129630",
   "metadata": {},
   "outputs": [],
   "source": [
    "# A work-around to the above downside is to do the following:"
   ]
  },
  {
   "cell_type": "code",
   "execution_count": null,
   "id": "e5c3ccc5",
   "metadata": {},
   "outputs": [],
   "source": [
    "from math import * # This line import all the functions inside the package 'math'."
   ]
  },
  {
   "cell_type": "markdown",
   "id": "a98d5130",
   "metadata": {},
   "source": [
    "## 10.3 Importing the numpy package"
   ]
  },
  {
   "cell_type": "code",
   "execution_count": null,
   "id": "1a8b81d5",
   "metadata": {},
   "outputs": [],
   "source": [
    "# Another very useful package that is often used is NumPy. \n",
    "# NumPy also provides sqrt() function. "
   ]
  },
  {
   "cell_type": "code",
   "execution_count": 26,
   "id": "ece62749",
   "metadata": {},
   "outputs": [
    {
     "data": {
      "text/plain": [
       "3.1622776601683795"
      ]
     },
     "execution_count": 26,
     "metadata": {},
     "output_type": "execute_result"
    }
   ],
   "source": [
    "import numpy as np\n",
    "\n",
    "np.sqrt(x)"
   ]
  },
  {
   "cell_type": "markdown",
   "id": "4011deb0",
   "metadata": {},
   "source": [
    "## 10.4 Why so many packages?"
   ]
  },
  {
   "cell_type": "code",
   "execution_count": null,
   "id": "a448135b",
   "metadata": {},
   "outputs": [],
   "source": [
    "# The reason that one function is offered by different modules is that they provide different formatting, \\\n",
    "#     capabilities, and efficiencies. \n",
    "# More detail on NumPy in the next chapters."
   ]
  },
  {
   "cell_type": "markdown",
   "id": "9607e08a",
   "metadata": {},
   "source": [
    "# 11 The dot (.)"
   ]
  },
  {
   "cell_type": "code",
   "execution_count": null,
   "id": "682a1b9e",
   "metadata": {},
   "outputs": [],
   "source": [
    "# Dot in Python encapsulates ownership. \n",
    "# Since Python is an OOP language, every incidence (belonging to an object) has a series of attributes and methods.\n",
    "# A attribute is a property possessed by the object incidence (Ex. np_array.shape). \n",
    "# A method is a function that can act on the object (Ex. my_string.split() --> list). \n",
    "# () follows a method, but not an attribute. "
   ]
  },
  {
   "cell_type": "code",
   "execution_count": 27,
   "id": "a48c63a1",
   "metadata": {},
   "outputs": [
    {
     "data": {
      "text/plain": [
       "['I', 'am', 'Batman']"
      ]
     },
     "execution_count": 27,
     "metadata": {},
     "output_type": "execute_result"
    }
   ],
   "source": [
    "\"I am Batman\".split()"
   ]
  }
 ],
 "metadata": {
  "kernelspec": {
   "display_name": "Python 3 (ipykernel)",
   "language": "python",
   "name": "python3"
  },
  "language_info": {
   "codemirror_mode": {
    "name": "ipython",
    "version": 3
   },
   "file_extension": ".py",
   "mimetype": "text/x-python",
   "name": "python",
   "nbconvert_exporter": "python",
   "pygments_lexer": "ipython3",
   "version": "3.11.5"
  },
  "toc": {
   "base_numbering": 1,
   "nav_menu": {},
   "number_sections": true,
   "sideBar": true,
   "skip_h1_title": false,
   "title_cell": "Table of Contents",
   "title_sidebar": "Contents",
   "toc_cell": false,
   "toc_position": {},
   "toc_section_display": true,
   "toc_window_display": false
  },
  "vscode": {
   "interpreter": {
    "hash": "31f2aee4e71d21fbe5cf8b01ff0e069b9275f58929596ceb00d14d90e3e16cd6"
   }
  }
 },
 "nbformat": 4,
 "nbformat_minor": 5
}
