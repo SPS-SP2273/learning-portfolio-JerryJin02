{
 "cells": [
  {
   "cell_type": "markdown",
   "id": "123456",
   "metadata": {},
   "source": [
    "<div style=\"text-align:left;font-size:2em\"><span style=\"font-weight:bolder;font-size:1.25em\">SP2273 | Learning Portfolio</span><br><br><span style=\"font-weight:bold;color:darkred\">Loops (Need) Exercises</span></div>"
   ]
  },
  {
   "cell_type": "markdown",
   "id": "2b457cbe",
   "metadata": {},
   "source": [
    "## Exercise 1"
   ]
  },
  {
   "cell_type": "code",
   "execution_count": 1,
   "id": "cc95115d",
   "metadata": {},
   "outputs": [],
   "source": [
    "temperatures_celsius = [\n",
    "    0, 5, 10, 15, 20, 25,\n",
    "    30, 35, 40, 45, 50\n",
    "]"
   ]
  },
  {
   "cell_type": "code",
   "execution_count": 2,
   "id": "77221d93",
   "metadata": {},
   "outputs": [
    {
     "name": "stdout",
     "output_type": "stream",
     "text": [
      "0°C is 32.0°F\n",
      "5°C is 41.0°F\n",
      "10°C is 50.0°F\n",
      "15°C is 59.0°F\n",
      "20°C is 68.0°F\n",
      "25°C is 77.0°F\n",
      "30°C is 86.0°F\n",
      "35°C is 95.0°F\n",
      "40°C is 104.0°F\n",
      "45°C is 113.0°F\n",
      "50°C is 122.0°F\n"
     ]
    }
   ],
   "source": [
    "for c in temperatures_celsius:\n",
    "    f = 32 + (c * 9/5)\n",
    "    print(f'{c}°C is {f}°F')"
   ]
  },
  {
   "cell_type": "markdown",
   "id": "dd6b2c4b",
   "metadata": {},
   "source": [
    "## Exercise 2"
   ]
  },
  {
   "cell_type": "code",
   "execution_count": 7,
   "id": "162ecd8d",
   "metadata": {},
   "outputs": [
    {
     "name": "stdout",
     "output_type": "stream",
     "text": [
      "1 : 1   2   3   4   5   \n",
      "2 : 2   4   6   8   10  \n",
      "3 : 3   6   9   12  15  \n",
      "4 : 4   8   12  16  20  \n",
      "5 : 5   10  15  20  25  \n"
     ]
    }
   ],
   "source": [
    "for i in range(1, 6):\n",
    "    for j in range(1, 6):\n",
    "        if j == 1:\n",
    "            if i * j >= 10:\n",
    "                print(f\"{i} : {i * j}\", end='  ')\n",
    "            else:\n",
    "                print(f\"{i} : {i * j}\", end='   ')\n",
    "        elif j == 5: \n",
    "            if i * j >= 10:\n",
    "                print(i * j, end='  \\n')\n",
    "            else:\n",
    "                print(i * j, end='   \\n')\n",
    "        else:\n",
    "            if i * j >= 10:\n",
    "                print(i * j, end='  ')\n",
    "            else:\n",
    "                print(i * j, end='   ')"
   ]
  }
 ],
 "metadata": {
  "kernelspec": {
   "display_name": "Python 3 (ipykernel)",
   "language": "python",
   "name": "python3"
  },
  "language_info": {
   "codemirror_mode": {
    "name": "ipython",
    "version": 3
   },
   "file_extension": ".py",
   "mimetype": "text/x-python",
   "name": "python",
   "nbconvert_exporter": "python",
   "pygments_lexer": "ipython3",
   "version": "3.11.5"
  },
  "toc": {
   "base_numbering": 1,
   "nav_menu": {},
   "number_sections": true,
   "sideBar": true,
   "skip_h1_title": false,
   "title_cell": "Table of Contents",
   "title_sidebar": "Contents",
   "toc_cell": false,
   "toc_position": {},
   "toc_section_display": true,
   "toc_window_display": false
  },
  "vscode": {
   "interpreter": {
    "hash": "31f2aee4e71d21fbe5cf8b01ff0e069b9275f58929596ceb00d14d90e3e16cd6"
   }
  }
 },
 "nbformat": 4,
 "nbformat_minor": 5
}
