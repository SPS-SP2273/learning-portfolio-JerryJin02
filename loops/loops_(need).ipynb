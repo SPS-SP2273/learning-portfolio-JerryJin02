{
 "cells": [
  {
   "cell_type": "markdown",
   "id": "123456",
   "metadata": {},
   "source": [
    "<div style=\"text-align:left;font-size:2em\"><span style=\"font-weight:bolder;font-size:1.25em\">SP2273 | Learning Portfolio</span><br><br><span style=\"font-weight:bold;color:darkred\">Loops (Need)</span></div>"
   ]
  },
  {
   "cell_type": "markdown",
   "id": "0b2f0a0e",
   "metadata": {},
   "source": [
    "# What to expect in this chapter"
   ]
  },
  {
   "cell_type": "code",
   "execution_count": null,
   "id": "c50aa2ee",
   "metadata": {},
   "outputs": [],
   "source": [
    "# Loop demonstrates computers' largest advantage: repetitively performing a single task really fast."
   ]
  },
  {
   "cell_type": "markdown",
   "id": "f048a232",
   "metadata": {},
   "source": [
    "# 1 The for iterator"
   ]
  },
  {
   "cell_type": "code",
   "execution_count": null,
   "id": "a5eb7715",
   "metadata": {},
   "outputs": [],
   "source": [
    "# There are two types of loops in Python: 'for' loop and 'while' loop."
   ]
  },
  {
   "cell_type": "markdown",
   "id": "22b2b32d",
   "metadata": {},
   "source": [
    "## 1.1 for with a list"
   ]
  },
  {
   "cell_type": "code",
   "execution_count": null,
   "id": "9f6f5578",
   "metadata": {},
   "outputs": [],
   "source": [
    "# If we have a list, and we want to perform a certain task to each element of the list one by one, we could \\\n",
    "#     iterate over that list using a for loop.\n",
    "# As an example:"
   ]
  },
  {
   "cell_type": "code",
   "execution_count": 1,
   "id": "cb1fe556",
   "metadata": {},
   "outputs": [],
   "source": [
    "real_names = [\"Natasha Romanoff\", \"Tony Stark\", \"Stephen Strange\"]"
   ]
  },
  {
   "cell_type": "code",
   "execution_count": null,
   "id": "55345dd9",
   "metadata": {},
   "outputs": [],
   "source": [
    "# If we want the following output:"
   ]
  },
  {
   "cell_type": "markdown",
   "id": "366283e1",
   "metadata": {},
   "source": [
    "Natasha Romanoff is a Marvel superhero!\\\n",
    "Tony Stark is a Marvel superhero!\\\n",
    "Stephen Strange is a Marvel superhero!"
   ]
  },
  {
   "cell_type": "code",
   "execution_count": 13,
   "id": "12fc8004",
   "metadata": {},
   "outputs": [
    {
     "name": "stdout",
     "output_type": "stream",
     "text": [
      "Natasha Romanoff is a Marvel superhero!\n",
      "Tony Stark is a Marvel superhero!\n",
      "Stephen Strange is a Marvel superhero!\n"
     ]
    }
   ],
   "source": [
    "# We could simply do this:\n",
    "for name in real_names:\n",
    "    print(f\"{name} is a Marvel superhero!\")"
   ]
  },
  {
   "cell_type": "code",
   "execution_count": 14,
   "id": "6fe9c8a5",
   "metadata": {},
   "outputs": [
    {
     "name": "stdout",
     "output_type": "stream",
     "text": [
      "Stephen Strange\n"
     ]
    }
   ],
   "source": [
    "print(name)"
   ]
  },
  {
   "cell_type": "code",
   "execution_count": null,
   "id": "212b689d",
   "metadata": {},
   "outputs": [],
   "source": [
    "# Notice that the variable 'name' is only a local variable (in math, we call this as a 'dummy' variable) defined \n",
    "#     within this particular loop. \n",
    "# Therefore, instead of 'name', we can call it whatever we want (as long as it is consistent), and the loop will \\\n",
    "#     still work. \n",
    "# After the execution of the loop, the 'name' variable takes the value of the last entry that is assigned to it. "
   ]
  },
  {
   "cell_type": "code",
   "execution_count": 3,
   "id": "feb2dfe9",
   "metadata": {},
   "outputs": [
    {
     "name": "stdout",
     "output_type": "stream",
     "text": [
      "Natasha Romanoff is a Marvel superhero!\n",
      "Tony Stark is a Marvel superhero!\n",
      "Stephen Strange is a Marvel superhero!\n"
     ]
    }
   ],
   "source": [
    "for x in real_names:\n",
    "    print(f\"{x} is a Marvel superhero!\")"
   ]
  },
  {
   "cell_type": "markdown",
   "id": "9703f388",
   "metadata": {},
   "source": [
    "## 1.2 for with enumerate"
   ]
  },
  {
   "cell_type": "code",
   "execution_count": null,
   "id": "0056cb81",
   "metadata": {},
   "outputs": [],
   "source": [
    "# enumerate() is nothing more than a loop that keeps track of the number of times it has ran (called counts). \n",
    "# enumerate() iterates over two local variables: name (str), count (int)."
   ]
  },
  {
   "cell_type": "code",
   "execution_count": 4,
   "id": "483ad19d",
   "metadata": {},
   "outputs": [],
   "source": [
    "super_names = [\"Black Widow\", \"Iron Man\", \"Doctor Strange\"]\n",
    "real_names = [\"Natasha Romanoff\", \"Tony Stark\", \"Stephen Strange\"]"
   ]
  },
  {
   "cell_type": "code",
   "execution_count": 5,
   "id": "b33dac92",
   "metadata": {},
   "outputs": [
    {
     "name": "stdout",
     "output_type": "stream",
     "text": [
      "0: Natasha Romanoff is a Marvel superhero!\n",
      "1: Tony Stark is a Marvel superhero!\n",
      "2: Stephen Strange is a Marvel superhero!\n"
     ]
    }
   ],
   "source": [
    "for count, name in enumerate(real_names):\n",
    "    print(f'{count}: {name} is a Marvel superhero!')"
   ]
  },
  {
   "cell_type": "code",
   "execution_count": 6,
   "id": "e33a39e6",
   "metadata": {},
   "outputs": [
    {
     "name": "stdout",
     "output_type": "stream",
     "text": [
      "0: Natasha Romanoff is a Marvel superhero!\n",
      "1: Tony Stark is a Marvel superhero!\n",
      "2: Stephen Strange is a Marvel superhero!\n"
     ]
    }
   ],
   "source": [
    "# This code achieves the same thing (by introducing a global variable first), but not as elegant.\n",
    "count = 0\n",
    "for name in real_names:\n",
    "    print(f'{count}: {name} is a Marvel superhero!')\n",
    "    count += 1"
   ]
  },
  {
   "cell_type": "code",
   "execution_count": null,
   "id": "fb03879a",
   "metadata": {},
   "outputs": [],
   "source": [
    "# The count generated by enumerate() can also be used for indexing. "
   ]
  },
  {
   "cell_type": "code",
   "execution_count": 7,
   "id": "8bf518b3",
   "metadata": {},
   "outputs": [
    {
     "name": "stdout",
     "output_type": "stream",
     "text": [
      "Natasha Romanoff is Black Widow!\n",
      "Tony Stark is Iron Man!\n",
      "Stephen Strange is Doctor Strange!\n"
     ]
    }
   ],
   "source": [
    "for index, name in enumerate(real_names):\n",
    "    superhero_name = super_names[index]\n",
    "    print(f'{name} is {superhero_name}!')"
   ]
  },
  {
   "cell_type": "code",
   "execution_count": null,
   "id": "6505bc3a",
   "metadata": {},
   "outputs": [],
   "source": [
    "# By default, enumerate() counts from 0. \n",
    "# We can manually modify it to make it counts from whatever we want. "
   ]
  },
  {
   "cell_type": "code",
   "execution_count": 8,
   "id": "2d99e5d1",
   "metadata": {},
   "outputs": [
    {
     "name": "stdout",
     "output_type": "stream",
     "text": [
      "100: Natasha Romanoff is a Marvel superhero!\n",
      "101: Tony Stark is a Marvel superhero!\n",
      "102: Stephen Strange is a Marvel superhero!\n"
     ]
    }
   ],
   "source": [
    "for count, name in enumerate(real_names, 100):\n",
    "    print(f'{count}: {name} is a Marvel superhero!')"
   ]
  },
  {
   "cell_type": "markdown",
   "id": "27ceffd5",
   "metadata": {},
   "source": [
    "## 1.3 for with range"
   ]
  },
  {
   "cell_type": "code",
   "execution_count": null,
   "id": "fac653ba",
   "metadata": {},
   "outputs": [],
   "source": [
    "# range() is a powerful function that iterates on a sorted integer list (sort of). \n",
    "# By default, range(argument) starts from 0 and end at argument - 1.\n",
    "# By default, the step size of each increment (with each iteration) is 1. \n",
    "# These, of course, can all be modified for our need. "
   ]
  },
  {
   "cell_type": "code",
   "execution_count": 9,
   "id": "b7004675",
   "metadata": {},
   "outputs": [
    {
     "name": "stdout",
     "output_type": "stream",
     "text": [
      "0\n",
      "1\n",
      "2\n",
      "3\n",
      "4\n"
     ]
    }
   ],
   "source": [
    "for i in range(5):\n",
    "    print(i)"
   ]
  },
  {
   "cell_type": "code",
   "execution_count": 10,
   "id": "2c5d73e8",
   "metadata": {},
   "outputs": [
    {
     "name": "stdout",
     "output_type": "stream",
     "text": [
      "1\n",
      "4\n",
      "7\n"
     ]
    }
   ],
   "source": [
    "for i in range(1, 10, 3):\n",
    "    print(i)"
   ]
  },
  {
   "cell_type": "code",
   "execution_count": 11,
   "id": "7284f32a",
   "metadata": {},
   "outputs": [
    {
     "name": "stdout",
     "output_type": "stream",
     "text": [
      "Natasha Romanoff is Marvel's Black Widow!\n",
      "Tony Stark is Marvel's Iron Man!\n",
      "Stephen Strange is Marvel's Doctor Strange!\n"
     ]
    }
   ],
   "source": [
    "for i in range(len(real_names)):    # range() works as long as the argument is an integer. len() outputs an integer.\n",
    "    real_name = real_names[i]\n",
    "    super_name = super_names[i]        \n",
    "    print(f\"{real_name} is Marvel's {super_name}!\")"
   ]
  },
  {
   "cell_type": "markdown",
   "id": "af0febc8",
   "metadata": {},
   "source": [
    "# 2 while"
   ]
  },
  {
   "cell_type": "code",
   "execution_count": null,
   "id": "250c86c5",
   "metadata": {},
   "outputs": [],
   "source": [
    "# Compare to for, 'while' loop iterates on a condition. \n",
    "# If a specific condition is met (actually, not met), the loop terminates, and the program breaks out of the loop.\n",
    "# Conversely, the program continue on looping."
   ]
  },
  {
   "cell_type": "code",
   "execution_count": 12,
   "id": "adbef1e4",
   "metadata": {},
   "outputs": [
    {
     "name": "stdout",
     "output_type": "stream",
     "text": [
      "0\n",
      "1\n",
      "2\n",
      "3\n",
      "4\n"
     ]
    }
   ],
   "source": [
    "number = 0\n",
    "\n",
    "while number < 5:    # The condition here is this line.\n",
    "    print(number)    # This code achieves the same thing as the first 'for' loop example above.\n",
    "    number += 1"
   ]
  }
 ],
 "metadata": {
  "kernelspec": {
   "display_name": "Python 3 (ipykernel)",
   "language": "python",
   "name": "python3"
  },
  "language_info": {
   "codemirror_mode": {
    "name": "ipython",
    "version": 3
   },
   "file_extension": ".py",
   "mimetype": "text/x-python",
   "name": "python",
   "nbconvert_exporter": "python",
   "pygments_lexer": "ipython3",
   "version": "3.11.5"
  },
  "toc": {
   "base_numbering": 1,
   "nav_menu": {},
   "number_sections": true,
   "sideBar": true,
   "skip_h1_title": false,
   "title_cell": "Table of Contents",
   "title_sidebar": "Contents",
   "toc_cell": false,
   "toc_position": {},
   "toc_section_display": true,
   "toc_window_display": false
  },
  "vscode": {
   "interpreter": {
    "hash": "31f2aee4e71d21fbe5cf8b01ff0e069b9275f58929596ceb00d14d90e3e16cd6"
   }
  }
 },
 "nbformat": 4,
 "nbformat_minor": 5
}
