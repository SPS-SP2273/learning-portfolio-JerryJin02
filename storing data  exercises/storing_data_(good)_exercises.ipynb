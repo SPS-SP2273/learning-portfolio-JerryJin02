{
 "cells": [
  {
   "cell_type": "markdown",
   "id": "123456",
   "metadata": {},
   "source": [
    "<div style=\"text-align:left;font-size:2em\"><span style=\"font-weight:bolder;font-size:1.25em\">SP2273 | Learning Portfolio</span><br><br><span style=\"font-weight:bold;color:darkred\">Storing Data (Good) Exercises</span></div>"
   ]
  },
  {
   "cell_type": "markdown",
   "id": "67825236",
   "metadata": {},
   "source": [
    "## Exercise 1"
   ]
  },
  {
   "cell_type": "markdown",
   "id": "b0eb97d9",
   "metadata": {},
   "source": [
    "| Term    |  Description   |\n",
    "| :--- | :--- |\n",
    "| Subsetting   |  Select a subset of data from a list or an array  |\n",
    "| Indexing   |  Select one data from a list or an array  |\n",
    "| Slicing   |  Select a range of data from a list or an array  |\n",
    "| Masking   |  Select a subset of data according to a Boolean mask  |"
   ]
  },
  {
   "cell_type": "markdown",
   "id": "484d4a59",
   "metadata": {},
   "source": [
    "## Exercise 2"
   ]
  },
  {
   "cell_type": "code",
   "execution_count": 3,
   "id": "4dd7e80c",
   "metadata": {},
   "outputs": [],
   "source": [
    "import numpy as np\n",
    "np_array_2d = np.array([[1, \"A\"], [3, \"C\"], [2, \"B\"], [4, \"D\"],\n",
    "                        [5, \"E\"], [7, \"G\"], [6, \"F\"], [8, \"H\"],\n",
    "                        [10, \"J\"], [9, \"I\"]])"
   ]
  },
  {
   "cell_type": "code",
   "execution_count": 16,
   "id": "a0114d51",
   "metadata": {},
   "outputs": [
    {
     "data": {
      "text/plain": [
       "array(['A', 'C', 'E', 'G', 'I'], dtype='<U21')"
      ]
     },
     "execution_count": 16,
     "metadata": {},
     "output_type": "execute_result"
    }
   ],
   "source": [
    "step1 = np_array_2d[:, 0]\n",
    "step2 = step1.astype('int') % 2\n",
    "mask = step2 == 1\n",
    "np_array_2d[mask][:, 1]"
   ]
  },
  {
   "cell_type": "markdown",
   "id": "9fa0345d",
   "metadata": {},
   "source": [
    "## OPTIONAL"
   ]
  },
  {
   "cell_type": "code",
   "execution_count": 1,
   "id": "083251fc",
   "metadata": {},
   "outputs": [],
   "source": [
    "import string\n",
    "import random"
   ]
  },
  {
   "cell_type": "code",
   "execution_count": 4,
   "id": "8da450b3",
   "metadata": {},
   "outputs": [],
   "source": [
    "random_array = np.array([random.sample(random.choice(string.ascii_lowercase)+random.choice(string.digits), 2) for i in range(10)])"
   ]
  },
  {
   "cell_type": "code",
   "execution_count": 5,
   "id": "32f29806",
   "metadata": {},
   "outputs": [
    {
     "name": "stdout",
     "output_type": "stream",
     "text": [
      "[['l' '4']\n",
      " ['7' 'o']\n",
      " ['t' '1']\n",
      " ['9' 'o']\n",
      " ['w' '8']\n",
      " ['5' 'i']\n",
      " ['d' '0']\n",
      " ['1' 'p']\n",
      " ['a' '5']\n",
      " ['0' 'o']]\n"
     ]
    }
   ],
   "source": [
    "print(random_array)"
   ]
  },
  {
   "cell_type": "code",
   "execution_count": 11,
   "id": "2d68b2ec",
   "metadata": {},
   "outputs": [
    {
     "data": {
      "text/plain": [
       "array(['o', 't', 'o', 'i', 'p', 'a'], dtype='<U1')"
      ]
     },
     "execution_count": 11,
     "metadata": {},
     "output_type": "execute_result"
    }
   ],
   "source": [
    "sorted_array = np.sort(random_array)\n",
    "step1 = sorted_array[:, 0]\n",
    "step2 = step1.astype('int') % 2\n",
    "mask = step2 == 1\n",
    "sorted_array[mask][:, 1]"
   ]
  }
 ],
 "metadata": {
  "kernelspec": {
   "display_name": "Python 3 (ipykernel)",
   "language": "python",
   "name": "python3"
  },
  "language_info": {
   "codemirror_mode": {
    "name": "ipython",
    "version": 3
   },
   "file_extension": ".py",
   "mimetype": "text/x-python",
   "name": "python",
   "nbconvert_exporter": "python",
   "pygments_lexer": "ipython3",
   "version": "3.11.5"
  },
  "toc": {
   "base_numbering": 1,
   "nav_menu": {},
   "number_sections": true,
   "sideBar": true,
   "skip_h1_title": false,
   "title_cell": "Table of Contents",
   "title_sidebar": "Contents",
   "toc_cell": false,
   "toc_position": {},
   "toc_section_display": true,
   "toc_window_display": false
  },
  "vscode": {
   "interpreter": {
    "hash": "31f2aee4e71d21fbe5cf8b01ff0e069b9275f58929596ceb00d14d90e3e16cd6"
   }
  }
 },
 "nbformat": 4,
 "nbformat_minor": 5
}
