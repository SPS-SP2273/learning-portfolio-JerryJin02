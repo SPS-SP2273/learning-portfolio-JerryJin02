{
 "cells": [
  {
   "cell_type": "markdown",
   "id": "123456",
   "metadata": {},
   "source": [
    "<div style=\"text-align:left;font-size:2em\"><span style=\"font-weight:bolder;font-size:1.25em\">SP2273 | Learning Portfolio</span><br><br><span style=\"font-weight:bold;color:darkred\">Using Jupyter (Need), Exercises</span></div>"
   ]
  },
  {
   "cell_type": "markdown",
   "id": "15ba776c",
   "metadata": {},
   "source": [
    "## Exercise 1"
   ]
  },
  {
   "cell_type": "markdown",
   "id": "0ec1ee7a",
   "metadata": {},
   "source": [
    "## Quadratic Equations"
   ]
  },
  {
   "cell_type": "markdown",
   "id": "5afafd43",
   "metadata": {},
   "source": [
    "### Introduction"
   ]
  },
  {
   "cell_type": "markdown",
   "id": "23a537bd",
   "metadata": {},
   "source": [
    "![](https://upload.wikimedia.org/wikipedia/commons/thumb/f/f8/Polynomialdeg2.svg/1920px-Polynomialdeg2.svg.png)"
   ]
  },
  {
   "cell_type": "markdown",
   "id": "eae50a54",
   "metadata": {},
   "source": [
    "*(Image from the [Wikipedia page on Quadratic equations](https://en.wikipedia.org/wiki/Quadratic_equation))*"
   ]
  },
  {
   "cell_type": "markdown",
   "id": "21cedfba",
   "metadata": {},
   "source": [
    "The general form of a quadratic equation is:"
   ]
  },
  {
   "cell_type": "markdown",
   "id": "962f50ae",
   "metadata": {},
   "source": [
    "$$\n",
    "ax^2+bx+c=0\n",
    "$$"
   ]
  },
  {
   "cell_type": "markdown",
   "id": "69a0c3c5",
   "metadata": {},
   "source": [
    "### Solutions"
   ]
  },
  {
   "cell_type": "markdown",
   "id": "d6dd6845",
   "metadata": {},
   "source": [
    "Provided $a\\ne0$, we can use an elementary algebaic method called [completing the square](https://en.wikipedia.org/wiki/Completing_the_square) to show that a quadratic equation has the following solution:"
   ]
  },
  {
   "cell_type": "markdown",
   "id": "64bd014a",
   "metadata": {},
   "source": [
    "$$\n",
    "x = \\dfrac{-b \\pm \\sqrt{b^2-4ac}}{2a}\n",
    "$$"
   ]
  },
  {
   "cell_type": "markdown",
   "id": "0cd1c0ab",
   "metadata": {},
   "source": [
    "### Discriminant"
   ]
  },
  {
   "cell_type": "markdown",
   "id": "dce96cdc",
   "metadata": {},
   "source": [
    "The quantity $\\Delta = b^2 - 4ac$ is called the **discriminant** of the equation and decides the nature of its solutions. The table below shows the various possibilities. "
   ]
  },
  {
   "cell_type": "markdown",
   "id": "9e77ef77",
   "metadata": {},
   "source": [
    "\n",
    "| Discriminant                |  Roots                               |\n",
    "| :--------------------------:| :----------------------------------- |\n",
    "| $$\\Delta = b^2 - 4ac = 0$$|  A single solution of $-b/(2a)$      |\n",
    "| $$\\Delta = b^2 - 4ac \\gt 0$$ |  Two distinct solutions              |\n",
    "| $$\\Delta = b^2 - 4ac \\lt 0$$  |  No real solutions; both are complex |\n",
    "\n"
   ]
  },
  {
   "cell_type": "markdown",
   "id": "da441ae0",
   "metadata": {},
   "source": [
    "## Exercise 2"
   ]
  },
  {
   "cell_type": "markdown",
   "id": "c300e3fb",
   "metadata": {},
   "source": [
    "1. A Git repository is a folder that contains a collection of files of various different versions of a project. In other words, it is a folder that contains the entire history of the project."
   ]
  },
  {
   "cell_type": "markdown",
   "id": "d075e330",
   "metadata": {},
   "source": [
    "2. Git keeps track of all changes made to our files in the repository."
   ]
  },
  {
   "cell_type": "markdown",
   "id": "20dd40ac",
   "metadata": {},
   "source": [
    "3. A Git commit is a snapshot of all changes made to a working directory at one point in time. "
   ]
  },
  {
   "cell_type": "markdown",
   "id": "8e97e895",
   "metadata": {},
   "source": [
    "4. A Git push is the action of sending the changes (commit) made to the local directories (from local repository) to the central repository. By doing so, changes can be reviewed by other collaborators. "
   ]
  },
  {
   "cell_type": "markdown",
   "id": "36f42a7b",
   "metadata": {},
   "source": [
    "5. A Git pull is the action of fetching and synchronizing the latest version/changes of/made to the files in the central repository (pushed up by others) and merging them into local repositories. "
   ]
  },
  {
   "cell_type": "markdown",
   "id": "4cff0eee",
   "metadata": {},
   "source": [
    "6. Github is a online platform that hosts Git repositories. Github Desktop is a graphic simplification that can be independently used to work with Git repositories."
   ]
  }
 ],
 "metadata": {
  "kernelspec": {
   "display_name": "Python 3 (ipykernel)",
   "language": "python",
   "name": "python3"
  },
  "language_info": {
   "codemirror_mode": {
    "name": "ipython",
    "version": 3
   },
   "file_extension": ".py",
   "mimetype": "text/x-python",
   "name": "python",
   "nbconvert_exporter": "python",
   "pygments_lexer": "ipython3",
   "version": "3.11.5"
  },
  "toc": {
   "base_numbering": 1,
   "nav_menu": {},
   "number_sections": true,
   "sideBar": true,
   "skip_h1_title": false,
   "title_cell": "Table of Contents",
   "title_sidebar": "Contents",
   "toc_cell": false,
   "toc_position": {},
   "toc_section_display": true,
   "toc_window_display": false
  },
  "vscode": {
   "interpreter": {
    "hash": "31f2aee4e71d21fbe5cf8b01ff0e069b9275f58929596ceb00d14d90e3e16cd6"
   }
  }
 },
 "nbformat": 4,
 "nbformat_minor": 5
}
