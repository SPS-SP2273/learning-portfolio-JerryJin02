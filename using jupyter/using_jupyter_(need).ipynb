{
 "cells": [
  {
   "cell_type": "markdown",
   "id": "123456",
   "metadata": {},
   "source": [
    "<div style=\"text-align:left;font-size:2em\"><span style=\"font-weight:bolder;font-size:1.25em\">SP2273 | Learning Portfolio</span><br><br><span style=\"font-weight:bold;color:darkred\">Using Jupyter (Need)</span></div>"
   ]
  },
  {
   "cell_type": "markdown",
   "id": "3902a4c6",
   "metadata": {},
   "source": [
    "# 1 What to expect in this chapter"
   ]
  },
  {
   "cell_type": "code",
   "execution_count": null,
   "id": "bd91fe0e",
   "metadata": {},
   "outputs": [],
   "source": [
    "# An intro to Python\n",
    "# Some basic features about Python and Jupyter Notebook (cells, markdown, etc.)"
   ]
  },
  {
   "cell_type": "markdown",
   "id": "a49fad7f",
   "metadata": {},
   "source": [
    "# 2 Getting ready"
   ]
  },
  {
   "cell_type": "code",
   "execution_count": null,
   "id": "5b1387ca",
   "metadata": {},
   "outputs": [],
   "source": [
    "# Launch Jupyter Notebook from terminal after installation. \n",
    "# Navigate to the directory where all the SP2273 files are stored. "
   ]
  },
  {
   "cell_type": "markdown",
   "id": "620f2da3",
   "metadata": {},
   "source": [
    "# 3 Getting started with Jupyter"
   ]
  },
  {
   "cell_type": "markdown",
   "id": "a7ece5bc",
   "metadata": {},
   "source": [
    "## 3.1 It is all about running cells"
   ]
  },
  {
   "cell_type": "code",
   "execution_count": null,
   "id": "59f873a7",
   "metadata": {},
   "outputs": [],
   "source": [
    "# Each of these blocks in Python is called a 'cell'.\n",
    "# A cell can either be a code cell or a markdown cell. \n",
    "# This current cell is an example of a code cell. "
   ]
  },
  {
   "cell_type": "markdown",
   "id": "7da41862",
   "metadata": {},
   "source": [
    "Whereas this is an example of a markdown cell."
   ]
  },
  {
   "cell_type": "code",
   "execution_count": null,
   "id": "284e00aa",
   "metadata": {},
   "outputs": [],
   "source": [
    "# The function of a markdown cell is to render texts (not codes) in a diverse and more aesthetic way.\n",
    "# At the end of each cell (both code and markdown), the cell can be executed either with the 'Run' button in the \\\n",
    "#     manubar on the top or with the keyboard shortcut 'command + enter'."
   ]
  },
  {
   "cell_type": "markdown",
   "id": "25a27855",
   "metadata": {},
   "source": [
    "## 3.2 A traditional part"
   ]
  },
  {
   "cell_type": "code",
   "execution_count": null,
   "id": "91cf8018",
   "metadata": {},
   "outputs": [],
   "source": [
    "# Each new block (cell) created, Python automatically starts with a code cell. \n",
    "# The conversion between a code and a markdown cell can be achieved in the manubar. "
   ]
  },
  {
   "cell_type": "code",
   "execution_count": 3,
   "id": "cbd5d210",
   "metadata": {},
   "outputs": [
    {
     "name": "stdout",
     "output_type": "stream",
     "text": [
      "Hello World!\n"
     ]
    }
   ],
   "source": [
    "print('Hello World!') # This is a code cell. When executed, this line of code yields the following output. "
   ]
  },
  {
   "cell_type": "markdown",
   "id": "517e9335",
   "metadata": {},
   "source": [
    "# 4 All about Markdown"
   ]
  },
  {
   "cell_type": "markdown",
   "id": "5d9ecbd3",
   "metadata": {},
   "source": [
    "## 4.1 Rendering Markdown cells"
   ]
  },
  {
   "cell_type": "code",
   "execution_count": null,
   "id": "ec3236fe",
   "metadata": {},
   "outputs": [],
   "source": [
    "# 'Esc + M' is a quick way to convert a code cell to a markdown cell.\n",
    "# Example:"
   ]
  },
  {
   "cell_type": "markdown",
   "id": "08826e96",
   "metadata": {},
   "source": [
    "The ships hung in the sky in much the same way that bricks don’t."
   ]
  },
  {
   "cell_type": "code",
   "execution_count": null,
   "id": "d5eac036",
   "metadata": {},
   "outputs": [],
   "source": [
    "# The above line is a markdown rendered text."
   ]
  },
  {
   "cell_type": "markdown",
   "id": "0f526464",
   "metadata": {},
   "source": [
    "## 4.2 Some basic syntax"
   ]
  },
  {
   "cell_type": "markdown",
   "id": "1207f1fd",
   "metadata": {},
   "source": [
    "The ships *hung in the sky* in much the same way that **bricks don’t.**<sup>1</sup><sub>QUOTE</sub>"
   ]
  },
  {
   "cell_type": "code",
   "execution_count": null,
   "id": "df0caf1b",
   "metadata": {},
   "outputs": [],
   "source": [
    "# ** Text inside double asterisks are bolded **\n",
    "# * Text inside single asterisks are rendered italic *\n",
    "# *** Triple asterisks are for both bolding and italicizing ***\n",
    "# <sub> These are subscript operators </sub>\n",
    "# <sup> These are superscript operators </sup>\n",
    "\n",
    "# '\\' is needed to change line within a markdown cell. Of course, 'enter' is also needed."
   ]
  },
  {
   "cell_type": "markdown",
   "id": "99e6a39a",
   "metadata": {},
   "source": [
    "askldjfhkj\\\n",
    "dkjfn"
   ]
  },
  {
   "cell_type": "markdown",
   "id": "04fea6b7",
   "metadata": {},
   "source": [
    "## 4.3 Headings"
   ]
  },
  {
   "cell_type": "code",
   "execution_count": null,
   "id": "4edf3be0",
   "metadata": {},
   "outputs": [],
   "source": [
    "# In a markdown cell, single hashtag (#) denotes primary heading (largest), double hashtag (##) denotes secondary \\\n",
    "#     heading, triple hashtag (###) denotes tertiary heading, and quadruple hashtag (####) denotes quaternary \\\n",
    "#     heading (smallest, non-italic heading)."
   ]
  },
  {
   "cell_type": "markdown",
   "id": "9bb30ef1",
   "metadata": {},
   "source": [
    "# Hi"
   ]
  },
  {
   "cell_type": "markdown",
   "id": "a931aa8c",
   "metadata": {},
   "source": [
    "## Hi"
   ]
  },
  {
   "cell_type": "markdown",
   "id": "9f1275f4",
   "metadata": {},
   "source": [
    "### Hi"
   ]
  },
  {
   "cell_type": "markdown",
   "id": "8a1bf224",
   "metadata": {},
   "source": [
    "#### Hi"
   ]
  },
  {
   "cell_type": "markdown",
   "id": "ff383145",
   "metadata": {},
   "source": [
    "##### Hi"
   ]
  },
  {
   "cell_type": "markdown",
   "id": "a1bd2548",
   "metadata": {},
   "source": [
    "###### Hi "
   ]
  },
  {
   "cell_type": "code",
   "execution_count": null,
   "id": "3b659e06",
   "metadata": {},
   "outputs": [],
   "source": [
    "# Interestingly, (#####) gives the smallest (but also italic) heading. Furthermore, (######) has the same effect \\\n",
    "#     (#####). But when it gets to (#######), it is no longer recognized by Python as heading."
   ]
  },
  {
   "cell_type": "markdown",
   "id": "d0233822",
   "metadata": {},
   "source": [
    "## 4.4 Displaying Code"
   ]
  },
  {
   "cell_type": "code",
   "execution_count": null,
   "id": "adc2d552",
   "metadata": {},
   "outputs": [],
   "source": [
    "# Pairs of backticks (`) can be used to render code line as it is. \n",
    "# Example:"
   ]
  },
  {
   "cell_type": "markdown",
   "id": "f4d1b4e5",
   "metadata": {},
   "source": [
    "`print('Hello World!)`"
   ]
  },
  {
   "cell_type": "code",
   "execution_count": null,
   "id": "3229b5de",
   "metadata": {},
   "outputs": [],
   "source": [
    "# Pairs of triple backticks (```) can render a block of code. \n",
    "# Example:"
   ]
  },
  {
   "cell_type": "markdown",
   "id": "46e10bb5",
   "metadata": {},
   "source": [
    "```\n",
    "print('Hello World!')\n",
    "print('Welcome!')\n",
    "```"
   ]
  },
  {
   "cell_type": "code",
   "execution_count": null,
   "id": "236940da",
   "metadata": {},
   "outputs": [],
   "source": [
    "# Notice, however, that single and triple backticks render codes differently."
   ]
  },
  {
   "cell_type": "markdown",
   "id": "dab037d3",
   "metadata": {},
   "source": [
    "## 4.5 Links"
   ]
  },
  {
   "cell_type": "code",
   "execution_count": null,
   "id": "cd32ad05",
   "metadata": {},
   "outputs": [],
   "source": [
    "# Markdown can handle url using the format [](). \n",
    "# The name which you want the hyperlink to display goes into [], while the actual url goes into ().\n",
    "# Note that it is crucial to remember to include the 'https://' agreement in the actual url when inserting links.\n",
    "# An example of this can be found in the exercise. "
   ]
  },
  {
   "cell_type": "markdown",
   "id": "e1b4d8ec",
   "metadata": {},
   "source": [
    "## 4.6 Images"
   ]
  },
  {
   "cell_type": "code",
   "execution_count": null,
   "id": "4ce672ba",
   "metadata": {},
   "outputs": [],
   "source": [
    "# Inserting images is very similar to inserting links. \n",
    "# It follows the ![]() format. A url format with a ! in the front. \n",
    "# [] is still the name of the image you want to display, and () is the address of the target image. \n",
    "# An example of this can be found in the exercise. \n",
    "# If the image is a local file, when its address is its local directory.\n",
    "# For this last point, it is better to use the 'insert image' function in the manuebar. \\\n",
    "#     And it will automatically fill out the correct format. \\\n",
    "# Example:\n",
    "#     ![Screenshot%202024-02-09%20at%2019.12.43.png](attachment:Screenshot%202024-02-09%20at%2019.12.43.png)"
   ]
  },
  {
   "cell_type": "markdown",
   "id": "1116e4a8",
   "metadata": {},
   "source": [
    "## 4.7 Tables"
   ]
  },
  {
   "cell_type": "code",
   "execution_count": null,
   "id": "f013034f",
   "metadata": {},
   "outputs": [],
   "source": [
    "# To create a table in markdown, you bascially follow this format:\n",
    "# | A    |  B   |    C |\n",
    "# | :--- | :--: | ---: |\n",
    "# | a1   |  b1  |   c1 |\n",
    "# | a2   |  b2  |   c2 |\n",
    "# | a3   |  b3  |   c3 |\n",
    "# The first row (above ---) is the heading, which is automatically bolded.\n",
    "# | denotes column separations.\n",
    "# :--- is left alignment, :--: is middle alignment, and ---: is right alignment. \n",
    "# Example:"
   ]
  },
  {
   "cell_type": "markdown",
   "id": "accc5417",
   "metadata": {},
   "source": [
    "| A    |  B   |    C |\n",
    "| :--- | :--: | ---: |\n",
    "| a1   |  b1  |   c1 |\n",
    "| a2   |  b2  |   c2 |\n",
    "| a3   |  b3  |   c3 |"
   ]
  },
  {
   "cell_type": "markdown",
   "id": "1a0cb645",
   "metadata": {},
   "source": [
    "## 4.8 Lists"
   ]
  },
  {
   "cell_type": "code",
   "execution_count": null,
   "id": "f1cd2cca",
   "metadata": {},
   "outputs": [],
   "source": [
    "# Lists in markdown works similarly to a Word document. \n",
    "# A list can be numbered, unnumbered, or a mixture of both. \n",
    "# A list does not number automatically (unlike Word document). \n",
    "# To create a sublist, 'tab' must be used to indent. \n",
    "# However, numbered lists of different levels will automatically by numbered using different alphabets, \\\n",
    "#     like the one below."
   ]
  },
  {
   "cell_type": "markdown",
   "id": "6d802cac",
   "metadata": {},
   "source": [
    "1. sdjfha\n",
    "    1. isdjhf\n",
    "        1. ksakuf\n",
    "        2. ksdjfn\n",
    "    2. sdjf\n"
   ]
  },
  {
   "cell_type": "markdown",
   "id": "85cc1cc7",
   "metadata": {},
   "source": [
    "## 4.9 Equations"
   ]
  },
  {
   "cell_type": "code",
   "execution_count": null,
   "id": "cf5eb1d3",
   "metadata": {},
   "outputs": [],
   "source": [
    "# Math equations can also be inserted in a markdown cell. \n",
    "# There are two ways to render math equations: inline using single dollar sign ($) and block using double dollar \\\n",
    "#     sign ($$). (Just like in Latex)\n",
    "# All math equation syntaxes are identical to that of Latex (this is because Jupyter Notebook uses a Latex engine),\\\n",
    "#     and hence will not be explicitly listed here. "
   ]
  }
 ],
 "metadata": {
  "kernelspec": {
   "display_name": "Python 3 (ipykernel)",
   "language": "python",
   "name": "python3"
  },
  "language_info": {
   "codemirror_mode": {
    "name": "ipython",
    "version": 3
   },
   "file_extension": ".py",
   "mimetype": "text/x-python",
   "name": "python",
   "nbconvert_exporter": "python",
   "pygments_lexer": "ipython3",
   "version": "3.11.5"
  },
  "toc": {
   "base_numbering": 1,
   "nav_menu": {},
   "number_sections": true,
   "sideBar": true,
   "skip_h1_title": false,
   "title_cell": "Table of Contents",
   "title_sidebar": "Contents",
   "toc_cell": false,
   "toc_position": {},
   "toc_section_display": true,
   "toc_window_display": false
  },
  "vscode": {
   "interpreter": {
    "hash": "31f2aee4e71d21fbe5cf8b01ff0e069b9275f58929596ceb00d14d90e3e16cd6"
   }
  }
 },
 "nbformat": 4,
 "nbformat_minor": 5
}
